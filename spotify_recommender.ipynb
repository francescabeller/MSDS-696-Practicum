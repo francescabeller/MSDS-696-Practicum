{
 "cells": [
  {
   "cell_type": "markdown",
   "metadata": {},
   "source": [
    "# Spotify Recommendation Algorithm"
   ]
  },
  {
   "cell_type": "markdown",
   "metadata": {},
   "source": [
    "### Spotify Authentication"
   ]
  },
  {
   "cell_type": "code",
   "execution_count": 1,
   "metadata": {},
   "outputs": [
    {
     "name": "stderr",
     "output_type": "stream",
     "text": [
      "C:\\Users\\febel\\AppData\\Local\\Continuum\\anaconda3\\lib\\site-packages\\statsmodels\\tools\\_testing.py:19: FutureWarning: pandas.util.testing is deprecated. Use the functions in the public API at pandas.testing instead.\n",
      "  import pandas.util.testing as tm\n"
     ]
    }
   ],
   "source": [
    "# Import libraries\n",
    "import spotipy\n",
    "from spotipy.oauth2 import SpotifyClientCredentials\n",
    "from spotipy.exceptions import SpotifyException\n",
    "import pandas as pd\n",
    "import seaborn as sns\n",
    "import matplotlib.pyplot as plt\n",
    "%matplotlib inline\n",
    "import sklearn"
   ]
  },
  {
   "cell_type": "code",
   "execution_count": 2,
   "metadata": {},
   "outputs": [],
   "source": [
    "# Set account info\n",
    "cid = '81fee852cceb4259910e7d2ff78493c3'\n",
    "secret = 'ad4360215d7641ee809275cc5cdd4a6c'\n",
    "username = 'francescab13'\n",
    "\n",
    "# Connect and create Spotify instance\n",
    "client_credentials_manager = SpotifyClientCredentials(client_id=cid, client_secret=secret)\n",
    "sp = spotipy.Spotify(client_credentials_manager=client_credentials_manager)"
   ]
  },
  {
   "cell_type": "markdown",
   "metadata": {},
   "source": [
    "## Data Gathering"
   ]
  },
  {
   "cell_type": "markdown",
   "metadata": {},
   "source": [
    "#### Retrieve track ID's from 'Like' and 'Dislike' playlists"
   ]
  },
  {
   "cell_type": "code",
   "execution_count": 3,
   "metadata": {},
   "outputs": [
    {
     "data": {
      "text/plain": [
       "[{'track': {'id': '75Q69chmd8CEZbVsA4CDMm'}},\n",
       " {'track': {'id': '38kjIfRtXsUxXyzhsKwX7i'}},\n",
       " {'track': {'id': '1YT8xkroYGNLGR4qhuWLC4'}},\n",
       " {'track': {'id': '76gYk9g0bZj47NyIKzjLF6'}},\n",
       " {'track': {'id': '7tvuLLroI0n6uYBWuFig5d'}}]"
      ]
     },
     "execution_count": 3,
     "metadata": {},
     "output_type": "execute_result"
    }
   ],
   "source": [
    "# Get data from 'Likes' playlist\n",
    "good_ids = []\n",
    "pl_id = 'spotify:playlist:2O6XH1ip37KOllmc1KoYEs'\n",
    "offset = 0\n",
    "\n",
    "while True:\n",
    "    response = sp.playlist_tracks(pl_id,\n",
    "                                  offset=offset,\n",
    "                                  fields='items.track.id,total')\n",
    "    good_ids.append(response['items'])\n",
    "    offset = offset + len(response['items'])\n",
    "\n",
    "    if len(response['items']) == 0:\n",
    "        break\n",
    "\n",
    "# Flatten list of lists of JSON\n",
    "good_flatten = []\n",
    "for sublist in good_ids:\n",
    "    for item in sublist:\n",
    "        good_flatten.append(item)\n",
    "\n",
    "# Check good track ID list\n",
    "good_flatten[0:5]"
   ]
  },
  {
   "cell_type": "code",
   "execution_count": 4,
   "metadata": {},
   "outputs": [
    {
     "data": {
      "text/plain": [
       "[{'track': {'id': '1YwNlWLf8auhazSQUDQLFU'}},\n",
       " {'track': {'id': '1xShPgQbOUa98avWJQFDBY'}},\n",
       " {'track': {'id': '3GREm6zSHwKZsJxl0hqbAQ'}},\n",
       " {'track': {'id': '0C6EIiQu8CS4eYtOCMEiAd'}},\n",
       " {'track': {'id': '0puf9yIluy9W0vpMEUoAnN'}}]"
      ]
     },
     "execution_count": 4,
     "metadata": {},
     "output_type": "execute_result"
    }
   ],
   "source": [
    "# Get data from 'Dislikes' playlist\n",
    "bad_ids = []\n",
    "pl_id = 'spotify:playlist:58KlzYsGNQoujtrQc2CU5d'\n",
    "offset = 0\n",
    "\n",
    "while True:\n",
    "    response = sp.playlist_tracks(pl_id,\n",
    "                                  offset=offset,\n",
    "                                  fields='items.track.id,total')\n",
    "    bad_ids.append(response['items'])\n",
    "    offset = offset + len(response['items'])\n",
    "\n",
    "    if len(response['items']) == 0:\n",
    "        break\n",
    "\n",
    "# Flatten list of lists of JSON\n",
    "bad_flatten = []\n",
    "for sublist in bad_ids:\n",
    "    for item in sublist:\n",
    "        bad_flatten.append(item)\n",
    "        \n",
    "# Check bad track ID list\n",
    "bad_flatten[0:5]"
   ]
  },
  {
   "cell_type": "markdown",
   "metadata": {},
   "source": [
    "#### Get track characteristic data"
   ]
  },
  {
   "cell_type": "code",
   "execution_count": 5,
   "metadata": {},
   "outputs": [
    {
     "data": {
      "text/plain": [
       "[{'danceability': 0.833,\n",
       "  'energy': 0.545,\n",
       "  'key': 2,\n",
       "  'loudness': -4.004,\n",
       "  'mode': 0,\n",
       "  'speechiness': 0.462,\n",
       "  'acousticness': 0.352,\n",
       "  'instrumentalness': 0,\n",
       "  'liveness': 0.0915,\n",
       "  'valence': 0.541,\n",
       "  'tempo': 77.035,\n",
       "  'type': 'audio_features',\n",
       "  'id': '75Q69chmd8CEZbVsA4CDMm',\n",
       "  'uri': 'spotify:track:75Q69chmd8CEZbVsA4CDMm',\n",
       "  'track_href': 'https://api.spotify.com/v1/tracks/75Q69chmd8CEZbVsA4CDMm',\n",
       "  'analysis_url': 'https://api.spotify.com/v1/audio-analysis/75Q69chmd8CEZbVsA4CDMm',\n",
       "  'duration_ms': 148494,\n",
       "  'time_signature': 4},\n",
       " {'danceability': 0.596,\n",
       "  'energy': 0.248,\n",
       "  'key': 0,\n",
       "  'loudness': -14.576,\n",
       "  'mode': 0,\n",
       "  'speechiness': 0.274,\n",
       "  'acousticness': 0.794,\n",
       "  'instrumentalness': 0,\n",
       "  'liveness': 0.0872,\n",
       "  'valence': 0.189,\n",
       "  'tempo': 112.043,\n",
       "  'type': 'audio_features',\n",
       "  'id': '38kjIfRtXsUxXyzhsKwX7i',\n",
       "  'uri': 'spotify:track:38kjIfRtXsUxXyzhsKwX7i',\n",
       "  'track_href': 'https://api.spotify.com/v1/tracks/38kjIfRtXsUxXyzhsKwX7i',\n",
       "  'analysis_url': 'https://api.spotify.com/v1/audio-analysis/38kjIfRtXsUxXyzhsKwX7i',\n",
       "  'duration_ms': 383025,\n",
       "  'time_signature': 4},\n",
       " {'danceability': 0.546,\n",
       "  'energy': 0.771,\n",
       "  'key': 3,\n",
       "  'loudness': -7.56,\n",
       "  'mode': 0,\n",
       "  'speechiness': 0.116,\n",
       "  'acousticness': 0.0117,\n",
       "  'instrumentalness': 0.351,\n",
       "  'liveness': 0.335,\n",
       "  'valence': 0.701,\n",
       "  'tempo': 130.224,\n",
       "  'type': 'audio_features',\n",
       "  'id': '1YT8xkroYGNLGR4qhuWLC4',\n",
       "  'uri': 'spotify:track:1YT8xkroYGNLGR4qhuWLC4',\n",
       "  'track_href': 'https://api.spotify.com/v1/tracks/1YT8xkroYGNLGR4qhuWLC4',\n",
       "  'analysis_url': 'https://api.spotify.com/v1/audio-analysis/1YT8xkroYGNLGR4qhuWLC4',\n",
       "  'duration_ms': 265947,\n",
       "  'time_signature': 4}]"
      ]
     },
     "execution_count": 5,
     "metadata": {},
     "output_type": "execute_result"
    }
   ],
   "source": [
    "# Compile list of 'good' track IDs\n",
    "good_id_list = []\n",
    "for i in range(0, len(good_flatten)):\n",
    "    good_id_list.append(good_flatten[i]['track']['id'])\n",
    "good_id_list = [x for x in good_id_list if x]\n",
    "\n",
    "# Retrieve track characteristics\n",
    "good_features = []\n",
    "for i in range(0, len(good_id_list)):\n",
    "    if not good_id_list[i]:\n",
    "        continue\n",
    "    else:\n",
    "        good_features.append(sp.audio_features(good_id_list[i]))\n",
    "\n",
    "# Flatten JSON list\n",
    "good_features_flat = []\n",
    "for sublist in good_features:\n",
    "    for item in sublist:\n",
    "        good_features_flat.append(item)\n",
    "        \n",
    "# Check 'good' features list\n",
    "good_features_flat[0:3]"
   ]
  },
  {
   "cell_type": "code",
   "execution_count": 6,
   "metadata": {},
   "outputs": [
    {
     "data": {
      "text/plain": [
       "[{'danceability': 0.641,\n",
       "  'energy': 0.812,\n",
       "  'key': 0,\n",
       "  'loudness': -7.945,\n",
       "  'mode': 0,\n",
       "  'speechiness': 0.0293,\n",
       "  'acousticness': 0.155,\n",
       "  'instrumentalness': 4.43e-05,\n",
       "  'liveness': 0.078,\n",
       "  'valence': 0.822,\n",
       "  'tempo': 112.777,\n",
       "  'type': 'audio_features',\n",
       "  'id': '1YwNlWLf8auhazSQUDQLFU',\n",
       "  'uri': 'spotify:track:1YwNlWLf8auhazSQUDQLFU',\n",
       "  'track_href': 'https://api.spotify.com/v1/tracks/1YwNlWLf8auhazSQUDQLFU',\n",
       "  'analysis_url': 'https://api.spotify.com/v1/audio-analysis/1YwNlWLf8auhazSQUDQLFU',\n",
       "  'duration_ms': 257333,\n",
       "  'time_signature': 4},\n",
       " {'danceability': 0.637,\n",
       "  'energy': 0.682,\n",
       "  'key': 11,\n",
       "  'loudness': -11.625,\n",
       "  'mode': 1,\n",
       "  'speechiness': 0.0366,\n",
       "  'acousticness': 0.0112,\n",
       "  'instrumentalness': 0.0234,\n",
       "  'liveness': 0.0473,\n",
       "  'valence': 0.714,\n",
       "  'tempo': 129.983,\n",
       "  'type': 'audio_features',\n",
       "  'id': '1xShPgQbOUa98avWJQFDBY',\n",
       "  'uri': 'spotify:track:1xShPgQbOUa98avWJQFDBY',\n",
       "  'track_href': 'https://api.spotify.com/v1/tracks/1xShPgQbOUa98avWJQFDBY',\n",
       "  'analysis_url': 'https://api.spotify.com/v1/audio-analysis/1xShPgQbOUa98avWJQFDBY',\n",
       "  'duration_ms': 224907,\n",
       "  'time_signature': 4},\n",
       " {'danceability': 0.679,\n",
       "  'energy': 0.829,\n",
       "  'key': 9,\n",
       "  'loudness': -7.288,\n",
       "  'mode': 0,\n",
       "  'speechiness': 0.0604,\n",
       "  'acousticness': 0.0875,\n",
       "  'instrumentalness': 2.46e-06,\n",
       "  'liveness': 0.318,\n",
       "  'valence': 0.812,\n",
       "  'tempo': 119.96,\n",
       "  'type': 'audio_features',\n",
       "  'id': '3GREm6zSHwKZsJxl0hqbAQ',\n",
       "  'uri': 'spotify:track:3GREm6zSHwKZsJxl0hqbAQ',\n",
       "  'track_href': 'https://api.spotify.com/v1/tracks/3GREm6zSHwKZsJxl0hqbAQ',\n",
       "  'analysis_url': 'https://api.spotify.com/v1/audio-analysis/3GREm6zSHwKZsJxl0hqbAQ',\n",
       "  'duration_ms': 232080,\n",
       "  'time_signature': 4}]"
      ]
     },
     "execution_count": 6,
     "metadata": {},
     "output_type": "execute_result"
    }
   ],
   "source": [
    "# Compile list of 'bad' track IDs\n",
    "bad_id_list = []\n",
    "for i in range(0, len(bad_flatten)):\n",
    "    bad_id_list.append(bad_flatten[i]['track']['id'])\n",
    "bad_id_list = [x for x in bad_id_list if x]\n",
    "\n",
    "# Retrieve track characteristics\n",
    "bad_features = []\n",
    "for i in range(0, len(bad_id_list)):\n",
    "    if not bad_id_list[i]:\n",
    "        continue\n",
    "    else:\n",
    "        bad_features.append(sp.audio_features(bad_id_list[i]))\n",
    "\n",
    "# Flatten JSON list\n",
    "bad_features_flat = []\n",
    "for sublist in bad_features:\n",
    "    for item in sublist:\n",
    "        bad_features_flat.append(item)\n",
    "        \n",
    "# Check 'bad' features list\n",
    "bad_features_flat[0:3]"
   ]
  },
  {
   "cell_type": "markdown",
   "metadata": {},
   "source": [
    "#### Create dataframes for 'liked' and 'disliked' tracks with audio features"
   ]
  },
  {
   "cell_type": "code",
   "execution_count": 7,
   "metadata": {},
   "outputs": [
    {
     "data": {
      "text/html": [
       "<div>\n",
       "<style scoped>\n",
       "    .dataframe tbody tr th:only-of-type {\n",
       "        vertical-align: middle;\n",
       "    }\n",
       "\n",
       "    .dataframe tbody tr th {\n",
       "        vertical-align: top;\n",
       "    }\n",
       "\n",
       "    .dataframe thead th {\n",
       "        text-align: right;\n",
       "    }\n",
       "</style>\n",
       "<table border=\"1\" class=\"dataframe\">\n",
       "  <thead>\n",
       "    <tr style=\"text-align: right;\">\n",
       "      <th></th>\n",
       "      <th>danceability</th>\n",
       "      <th>energy</th>\n",
       "      <th>key</th>\n",
       "      <th>loudness</th>\n",
       "      <th>mode</th>\n",
       "      <th>speechiness</th>\n",
       "      <th>acousticness</th>\n",
       "      <th>instrumentalness</th>\n",
       "      <th>liveness</th>\n",
       "      <th>valence</th>\n",
       "      <th>tempo</th>\n",
       "      <th>type</th>\n",
       "      <th>id</th>\n",
       "      <th>uri</th>\n",
       "      <th>track_href</th>\n",
       "      <th>analysis_url</th>\n",
       "      <th>duration_ms</th>\n",
       "      <th>time_signature</th>\n",
       "      <th>song_name</th>\n",
       "      <th>artist</th>\n",
       "    </tr>\n",
       "  </thead>\n",
       "  <tbody>\n",
       "    <tr>\n",
       "      <th>0</th>\n",
       "      <td>0.833</td>\n",
       "      <td>0.545</td>\n",
       "      <td>2</td>\n",
       "      <td>-4.004</td>\n",
       "      <td>0</td>\n",
       "      <td>0.4620</td>\n",
       "      <td>0.352000</td>\n",
       "      <td>0.000</td>\n",
       "      <td>0.0915</td>\n",
       "      <td>0.541</td>\n",
       "      <td>77.035</td>\n",
       "      <td>audio_features</td>\n",
       "      <td>75Q69chmd8CEZbVsA4CDMm</td>\n",
       "      <td>spotify:track:75Q69chmd8CEZbVsA4CDMm</td>\n",
       "      <td>https://api.spotify.com/v1/tracks/75Q69chmd8CE...</td>\n",
       "      <td>https://api.spotify.com/v1/audio-analysis/75Q6...</td>\n",
       "      <td>148494</td>\n",
       "      <td>4</td>\n",
       "      <td>Gorgeous</td>\n",
       "      <td>mansionz</td>\n",
       "    </tr>\n",
       "    <tr>\n",
       "      <th>1</th>\n",
       "      <td>0.596</td>\n",
       "      <td>0.248</td>\n",
       "      <td>0</td>\n",
       "      <td>-14.576</td>\n",
       "      <td>0</td>\n",
       "      <td>0.2740</td>\n",
       "      <td>0.794000</td>\n",
       "      <td>0.000</td>\n",
       "      <td>0.0872</td>\n",
       "      <td>0.189</td>\n",
       "      <td>112.043</td>\n",
       "      <td>audio_features</td>\n",
       "      <td>38kjIfRtXsUxXyzhsKwX7i</td>\n",
       "      <td>spotify:track:38kjIfRtXsUxXyzhsKwX7i</td>\n",
       "      <td>https://api.spotify.com/v1/tracks/38kjIfRtXsUx...</td>\n",
       "      <td>https://api.spotify.com/v1/audio-analysis/38kj...</td>\n",
       "      <td>383025</td>\n",
       "      <td>4</td>\n",
       "      <td>i'm thinking about horses</td>\n",
       "      <td>mansionz</td>\n",
       "    </tr>\n",
       "    <tr>\n",
       "      <th>2</th>\n",
       "      <td>0.546</td>\n",
       "      <td>0.771</td>\n",
       "      <td>3</td>\n",
       "      <td>-7.560</td>\n",
       "      <td>0</td>\n",
       "      <td>0.1160</td>\n",
       "      <td>0.011700</td>\n",
       "      <td>0.351</td>\n",
       "      <td>0.3350</td>\n",
       "      <td>0.701</td>\n",
       "      <td>130.224</td>\n",
       "      <td>audio_features</td>\n",
       "      <td>1YT8xkroYGNLGR4qhuWLC4</td>\n",
       "      <td>spotify:track:1YT8xkroYGNLGR4qhuWLC4</td>\n",
       "      <td>https://api.spotify.com/v1/tracks/1YT8xkroYGNL...</td>\n",
       "      <td>https://api.spotify.com/v1/audio-analysis/1YT8...</td>\n",
       "      <td>265947</td>\n",
       "      <td>4</td>\n",
       "      <td>Number 9</td>\n",
       "      <td>Moon Hooch</td>\n",
       "    </tr>\n",
       "    <tr>\n",
       "      <th>3</th>\n",
       "      <td>0.515</td>\n",
       "      <td>0.827</td>\n",
       "      <td>7</td>\n",
       "      <td>-5.423</td>\n",
       "      <td>1</td>\n",
       "      <td>0.0923</td>\n",
       "      <td>0.000361</td>\n",
       "      <td>0.838</td>\n",
       "      <td>0.1380</td>\n",
       "      <td>0.427</td>\n",
       "      <td>173.988</td>\n",
       "      <td>audio_features</td>\n",
       "      <td>76gYk9g0bZj47NyIKzjLF6</td>\n",
       "      <td>spotify:track:76gYk9g0bZj47NyIKzjLF6</td>\n",
       "      <td>https://api.spotify.com/v1/tracks/76gYk9g0bZj4...</td>\n",
       "      <td>https://api.spotify.com/v1/audio-analysis/76gY...</td>\n",
       "      <td>246094</td>\n",
       "      <td>4</td>\n",
       "      <td>Execute</td>\n",
       "      <td>Excision</td>\n",
       "    </tr>\n",
       "    <tr>\n",
       "      <th>4</th>\n",
       "      <td>0.387</td>\n",
       "      <td>0.678</td>\n",
       "      <td>0</td>\n",
       "      <td>-8.399</td>\n",
       "      <td>1</td>\n",
       "      <td>0.0817</td>\n",
       "      <td>0.001080</td>\n",
       "      <td>0.872</td>\n",
       "      <td>0.1010</td>\n",
       "      <td>0.368</td>\n",
       "      <td>172.641</td>\n",
       "      <td>audio_features</td>\n",
       "      <td>7tvuLLroI0n6uYBWuFig5d</td>\n",
       "      <td>spotify:track:7tvuLLroI0n6uYBWuFig5d</td>\n",
       "      <td>https://api.spotify.com/v1/tracks/7tvuLLroI0n6...</td>\n",
       "      <td>https://api.spotify.com/v1/audio-analysis/7tvu...</td>\n",
       "      <td>562707</td>\n",
       "      <td>3</td>\n",
       "      <td>Lateralus</td>\n",
       "      <td>TOOL</td>\n",
       "    </tr>\n",
       "  </tbody>\n",
       "</table>\n",
       "</div>"
      ],
      "text/plain": [
       "   danceability  energy  key  loudness  mode  speechiness  acousticness  \\\n",
       "0         0.833   0.545    2    -4.004     0       0.4620      0.352000   \n",
       "1         0.596   0.248    0   -14.576     0       0.2740      0.794000   \n",
       "2         0.546   0.771    3    -7.560     0       0.1160      0.011700   \n",
       "3         0.515   0.827    7    -5.423     1       0.0923      0.000361   \n",
       "4         0.387   0.678    0    -8.399     1       0.0817      0.001080   \n",
       "\n",
       "   instrumentalness  liveness  valence    tempo            type  \\\n",
       "0             0.000    0.0915    0.541   77.035  audio_features   \n",
       "1             0.000    0.0872    0.189  112.043  audio_features   \n",
       "2             0.351    0.3350    0.701  130.224  audio_features   \n",
       "3             0.838    0.1380    0.427  173.988  audio_features   \n",
       "4             0.872    0.1010    0.368  172.641  audio_features   \n",
       "\n",
       "                       id                                   uri  \\\n",
       "0  75Q69chmd8CEZbVsA4CDMm  spotify:track:75Q69chmd8CEZbVsA4CDMm   \n",
       "1  38kjIfRtXsUxXyzhsKwX7i  spotify:track:38kjIfRtXsUxXyzhsKwX7i   \n",
       "2  1YT8xkroYGNLGR4qhuWLC4  spotify:track:1YT8xkroYGNLGR4qhuWLC4   \n",
       "3  76gYk9g0bZj47NyIKzjLF6  spotify:track:76gYk9g0bZj47NyIKzjLF6   \n",
       "4  7tvuLLroI0n6uYBWuFig5d  spotify:track:7tvuLLroI0n6uYBWuFig5d   \n",
       "\n",
       "                                          track_href  \\\n",
       "0  https://api.spotify.com/v1/tracks/75Q69chmd8CE...   \n",
       "1  https://api.spotify.com/v1/tracks/38kjIfRtXsUx...   \n",
       "2  https://api.spotify.com/v1/tracks/1YT8xkroYGNL...   \n",
       "3  https://api.spotify.com/v1/tracks/76gYk9g0bZj4...   \n",
       "4  https://api.spotify.com/v1/tracks/7tvuLLroI0n6...   \n",
       "\n",
       "                                        analysis_url  duration_ms  \\\n",
       "0  https://api.spotify.com/v1/audio-analysis/75Q6...       148494   \n",
       "1  https://api.spotify.com/v1/audio-analysis/38kj...       383025   \n",
       "2  https://api.spotify.com/v1/audio-analysis/1YT8...       265947   \n",
       "3  https://api.spotify.com/v1/audio-analysis/76gY...       246094   \n",
       "4  https://api.spotify.com/v1/audio-analysis/7tvu...       562707   \n",
       "\n",
       "   time_signature                  song_name      artist  \n",
       "0               4                   Gorgeous    mansionz  \n",
       "1               4  i'm thinking about horses    mansionz  \n",
       "2               4                   Number 9  Moon Hooch  \n",
       "3               4                    Execute    Excision  \n",
       "4               3                  Lateralus        TOOL  "
      ]
     },
     "execution_count": 7,
     "metadata": {},
     "output_type": "execute_result"
    }
   ],
   "source": [
    "# Create 'Like' dataframe\n",
    "like_df = pd.DataFrame.from_records(good_features_flat)\n",
    "\n",
    "# Retrieve song and artist names to add to dataframe\n",
    "good_song_names = []\n",
    "good_artists = []\n",
    "for index, row in like_df.iterrows():\n",
    "    try:\n",
    "        response = sp.track(str(row['uri']))\n",
    "        good_song_names.append(response['name'])\n",
    "        good_artists.append(response['artists'][0]['name'])\n",
    "    except SpotifyException as e:\n",
    "        good_song_names.append('Unknown')\n",
    "        good_artists.append('Unknown')\n",
    "\n",
    "# Create 'song_name' and 'artist' columns\n",
    "like_df['song_name'] = good_song_names\n",
    "like_df['artist'] = good_artists\n",
    "\n",
    "# Check dataframe\n",
    "like_df.head()"
   ]
  },
  {
   "cell_type": "code",
   "execution_count": 8,
   "metadata": {},
   "outputs": [
    {
     "data": {
      "text/html": [
       "<div>\n",
       "<style scoped>\n",
       "    .dataframe tbody tr th:only-of-type {\n",
       "        vertical-align: middle;\n",
       "    }\n",
       "\n",
       "    .dataframe tbody tr th {\n",
       "        vertical-align: top;\n",
       "    }\n",
       "\n",
       "    .dataframe thead th {\n",
       "        text-align: right;\n",
       "    }\n",
       "</style>\n",
       "<table border=\"1\" class=\"dataframe\">\n",
       "  <thead>\n",
       "    <tr style=\"text-align: right;\">\n",
       "      <th></th>\n",
       "      <th>danceability</th>\n",
       "      <th>energy</th>\n",
       "      <th>key</th>\n",
       "      <th>loudness</th>\n",
       "      <th>mode</th>\n",
       "      <th>speechiness</th>\n",
       "      <th>acousticness</th>\n",
       "      <th>instrumentalness</th>\n",
       "      <th>liveness</th>\n",
       "      <th>valence</th>\n",
       "      <th>tempo</th>\n",
       "      <th>type</th>\n",
       "      <th>id</th>\n",
       "      <th>uri</th>\n",
       "      <th>track_href</th>\n",
       "      <th>analysis_url</th>\n",
       "      <th>duration_ms</th>\n",
       "      <th>time_signature</th>\n",
       "      <th>song_name</th>\n",
       "      <th>artist</th>\n",
       "    </tr>\n",
       "  </thead>\n",
       "  <tbody>\n",
       "    <tr>\n",
       "      <th>0</th>\n",
       "      <td>0.641</td>\n",
       "      <td>0.812</td>\n",
       "      <td>0</td>\n",
       "      <td>-7.945</td>\n",
       "      <td>0</td>\n",
       "      <td>0.0293</td>\n",
       "      <td>0.1550</td>\n",
       "      <td>0.000044</td>\n",
       "      <td>0.0780</td>\n",
       "      <td>0.822</td>\n",
       "      <td>112.777</td>\n",
       "      <td>audio_features</td>\n",
       "      <td>1YwNlWLf8auhazSQUDQLFU</td>\n",
       "      <td>spotify:track:1YwNlWLf8auhazSQUDQLFU</td>\n",
       "      <td>https://api.spotify.com/v1/tracks/1YwNlWLf8auh...</td>\n",
       "      <td>https://api.spotify.com/v1/audio-analysis/1YwN...</td>\n",
       "      <td>257333</td>\n",
       "      <td>4</td>\n",
       "      <td>Enjoy the Silence - Single Mix</td>\n",
       "      <td>Depeche Mode</td>\n",
       "    </tr>\n",
       "    <tr>\n",
       "      <th>1</th>\n",
       "      <td>0.637</td>\n",
       "      <td>0.682</td>\n",
       "      <td>11</td>\n",
       "      <td>-11.625</td>\n",
       "      <td>1</td>\n",
       "      <td>0.0366</td>\n",
       "      <td>0.0112</td>\n",
       "      <td>0.023400</td>\n",
       "      <td>0.0473</td>\n",
       "      <td>0.714</td>\n",
       "      <td>129.983</td>\n",
       "      <td>audio_features</td>\n",
       "      <td>1xShPgQbOUa98avWJQFDBY</td>\n",
       "      <td>spotify:track:1xShPgQbOUa98avWJQFDBY</td>\n",
       "      <td>https://api.spotify.com/v1/tracks/1xShPgQbOUa9...</td>\n",
       "      <td>https://api.spotify.com/v1/audio-analysis/1xSh...</td>\n",
       "      <td>224907</td>\n",
       "      <td>4</td>\n",
       "      <td>Personal Jesus - Original Single Version</td>\n",
       "      <td>Depeche Mode</td>\n",
       "    </tr>\n",
       "    <tr>\n",
       "      <th>2</th>\n",
       "      <td>0.679</td>\n",
       "      <td>0.829</td>\n",
       "      <td>9</td>\n",
       "      <td>-7.288</td>\n",
       "      <td>0</td>\n",
       "      <td>0.0604</td>\n",
       "      <td>0.0875</td>\n",
       "      <td>0.000002</td>\n",
       "      <td>0.3180</td>\n",
       "      <td>0.812</td>\n",
       "      <td>119.960</td>\n",
       "      <td>audio_features</td>\n",
       "      <td>3GREm6zSHwKZsJxl0hqbAQ</td>\n",
       "      <td>spotify:track:3GREm6zSHwKZsJxl0hqbAQ</td>\n",
       "      <td>https://api.spotify.com/v1/tracks/3GREm6zSHwKZ...</td>\n",
       "      <td>https://api.spotify.com/v1/audio-analysis/3GRE...</td>\n",
       "      <td>232080</td>\n",
       "      <td>4</td>\n",
       "      <td>People Are People - 2006 Remaster</td>\n",
       "      <td>Depeche Mode</td>\n",
       "    </tr>\n",
       "    <tr>\n",
       "      <th>3</th>\n",
       "      <td>0.678</td>\n",
       "      <td>0.658</td>\n",
       "      <td>8</td>\n",
       "      <td>-7.300</td>\n",
       "      <td>1</td>\n",
       "      <td>0.0280</td>\n",
       "      <td>0.0093</td>\n",
       "      <td>0.239000</td>\n",
       "      <td>0.1180</td>\n",
       "      <td>0.359</td>\n",
       "      <td>114.209</td>\n",
       "      <td>audio_features</td>\n",
       "      <td>0C6EIiQu8CS4eYtOCMEiAd</td>\n",
       "      <td>spotify:track:0C6EIiQu8CS4eYtOCMEiAd</td>\n",
       "      <td>https://api.spotify.com/v1/tracks/0C6EIiQu8CS4...</td>\n",
       "      <td>https://api.spotify.com/v1/audio-analysis/0C6E...</td>\n",
       "      <td>294040</td>\n",
       "      <td>4</td>\n",
       "      <td>Policy of Truth - 2006 Remaster</td>\n",
       "      <td>Depeche Mode</td>\n",
       "    </tr>\n",
       "    <tr>\n",
       "      <th>4</th>\n",
       "      <td>0.706</td>\n",
       "      <td>0.786</td>\n",
       "      <td>0</td>\n",
       "      <td>-3.417</td>\n",
       "      <td>0</td>\n",
       "      <td>0.0910</td>\n",
       "      <td>0.2600</td>\n",
       "      <td>0.000000</td>\n",
       "      <td>0.3800</td>\n",
       "      <td>0.751</td>\n",
       "      <td>150.028</td>\n",
       "      <td>audio_features</td>\n",
       "      <td>0puf9yIluy9W0vpMEUoAnN</td>\n",
       "      <td>spotify:track:0puf9yIluy9W0vpMEUoAnN</td>\n",
       "      <td>https://api.spotify.com/v1/tracks/0puf9yIluy9W...</td>\n",
       "      <td>https://api.spotify.com/v1/audio-analysis/0puf...</td>\n",
       "      <td>199387</td>\n",
       "      <td>4</td>\n",
       "      <td>Bang Bang</td>\n",
       "      <td>Jessie J</td>\n",
       "    </tr>\n",
       "  </tbody>\n",
       "</table>\n",
       "</div>"
      ],
      "text/plain": [
       "   danceability  energy  key  loudness  mode  speechiness  acousticness  \\\n",
       "0         0.641   0.812    0    -7.945     0       0.0293        0.1550   \n",
       "1         0.637   0.682   11   -11.625     1       0.0366        0.0112   \n",
       "2         0.679   0.829    9    -7.288     0       0.0604        0.0875   \n",
       "3         0.678   0.658    8    -7.300     1       0.0280        0.0093   \n",
       "4         0.706   0.786    0    -3.417     0       0.0910        0.2600   \n",
       "\n",
       "   instrumentalness  liveness  valence    tempo            type  \\\n",
       "0          0.000044    0.0780    0.822  112.777  audio_features   \n",
       "1          0.023400    0.0473    0.714  129.983  audio_features   \n",
       "2          0.000002    0.3180    0.812  119.960  audio_features   \n",
       "3          0.239000    0.1180    0.359  114.209  audio_features   \n",
       "4          0.000000    0.3800    0.751  150.028  audio_features   \n",
       "\n",
       "                       id                                   uri  \\\n",
       "0  1YwNlWLf8auhazSQUDQLFU  spotify:track:1YwNlWLf8auhazSQUDQLFU   \n",
       "1  1xShPgQbOUa98avWJQFDBY  spotify:track:1xShPgQbOUa98avWJQFDBY   \n",
       "2  3GREm6zSHwKZsJxl0hqbAQ  spotify:track:3GREm6zSHwKZsJxl0hqbAQ   \n",
       "3  0C6EIiQu8CS4eYtOCMEiAd  spotify:track:0C6EIiQu8CS4eYtOCMEiAd   \n",
       "4  0puf9yIluy9W0vpMEUoAnN  spotify:track:0puf9yIluy9W0vpMEUoAnN   \n",
       "\n",
       "                                          track_href  \\\n",
       "0  https://api.spotify.com/v1/tracks/1YwNlWLf8auh...   \n",
       "1  https://api.spotify.com/v1/tracks/1xShPgQbOUa9...   \n",
       "2  https://api.spotify.com/v1/tracks/3GREm6zSHwKZ...   \n",
       "3  https://api.spotify.com/v1/tracks/0C6EIiQu8CS4...   \n",
       "4  https://api.spotify.com/v1/tracks/0puf9yIluy9W...   \n",
       "\n",
       "                                        analysis_url  duration_ms  \\\n",
       "0  https://api.spotify.com/v1/audio-analysis/1YwN...       257333   \n",
       "1  https://api.spotify.com/v1/audio-analysis/1xSh...       224907   \n",
       "2  https://api.spotify.com/v1/audio-analysis/3GRE...       232080   \n",
       "3  https://api.spotify.com/v1/audio-analysis/0C6E...       294040   \n",
       "4  https://api.spotify.com/v1/audio-analysis/0puf...       199387   \n",
       "\n",
       "   time_signature                                 song_name        artist  \n",
       "0               4            Enjoy the Silence - Single Mix  Depeche Mode  \n",
       "1               4  Personal Jesus - Original Single Version  Depeche Mode  \n",
       "2               4         People Are People - 2006 Remaster  Depeche Mode  \n",
       "3               4           Policy of Truth - 2006 Remaster  Depeche Mode  \n",
       "4               4                                 Bang Bang      Jessie J  "
      ]
     },
     "execution_count": 8,
     "metadata": {},
     "output_type": "execute_result"
    }
   ],
   "source": [
    "# Create 'Dislike' dataframe\n",
    "dislike_df = pd.DataFrame.from_records(bad_features_flat)\n",
    "\n",
    "# Retrieve song and artist names to add to dataframe\n",
    "bad_song_names = []\n",
    "bad_artists = []\n",
    "for index, row in dislike_df.iterrows():\n",
    "    try:\n",
    "        response = sp.track(str(row['uri']))\n",
    "        bad_song_names.append(response['name'])\n",
    "        bad_artists.append(response['artists'][0]['name'])\n",
    "    except SpotifyException as e:\n",
    "        bad_song_names.append('Unknown')\n",
    "        bad_artists.append('Unknown')\n",
    "\n",
    "# Create 'song_name' and 'artist' columns\n",
    "dislike_df['song_name'] = bad_song_names\n",
    "dislike_df['artist'] = bad_artists\n",
    "\n",
    "# Check dataframe\n",
    "dislike_df.head()"
   ]
  },
  {
   "cell_type": "markdown",
   "metadata": {},
   "source": [
    "## Exploratory Data Analysis"
   ]
  },
  {
   "cell_type": "code",
   "execution_count": 9,
   "metadata": {},
   "outputs": [
    {
     "ename": "KeyboardInterrupt",
     "evalue": "",
     "output_type": "error",
     "traceback": [
      "\u001b[1;31m---------------------------------------------------------------------------\u001b[0m",
      "\u001b[1;31mKeyboardInterrupt\u001b[0m                         Traceback (most recent call last)",
      "\u001b[1;32m<ipython-input-9-e4c7efb4decf>\u001b[0m in \u001b[0;36m<module>\u001b[1;34m\u001b[0m\n\u001b[0;32m      1\u001b[0m \u001b[1;31m#Importing the function\u001b[0m\u001b[1;33m\u001b[0m\u001b[1;33m\u001b[0m\u001b[1;33m\u001b[0m\u001b[0m\n\u001b[1;32m----> 2\u001b[1;33m \u001b[1;32mfrom\u001b[0m \u001b[0mpandas_profiling\u001b[0m \u001b[1;32mimport\u001b[0m \u001b[0mProfileReport\u001b[0m\u001b[1;33m\u001b[0m\u001b[1;33m\u001b[0m\u001b[0m\n\u001b[0m",
      "\u001b[1;32m~\\AppData\\Roaming\\Python\\Python37\\site-packages\\pandas_profiling\\__init__.py\u001b[0m in \u001b[0;36m<module>\u001b[1;34m\u001b[0m\n\u001b[0;32m      5\u001b[0m \u001b[1;33m\u001b[0m\u001b[0m\n\u001b[0;32m      6\u001b[0m \u001b[1;32mfrom\u001b[0m \u001b[0mpandas_profiling\u001b[0m\u001b[1;33m.\u001b[0m\u001b[0mconfig\u001b[0m \u001b[1;32mimport\u001b[0m \u001b[0mConfig\u001b[0m\u001b[1;33m,\u001b[0m \u001b[0mconfig\u001b[0m\u001b[1;33m\u001b[0m\u001b[1;33m\u001b[0m\u001b[0m\n\u001b[1;32m----> 7\u001b[1;33m \u001b[1;32mfrom\u001b[0m \u001b[0mpandas_profiling\u001b[0m\u001b[1;33m.\u001b[0m\u001b[0mcontroller\u001b[0m \u001b[1;32mimport\u001b[0m \u001b[0mpandas_decorator\u001b[0m\u001b[1;33m\u001b[0m\u001b[1;33m\u001b[0m\u001b[0m\n\u001b[0m\u001b[0;32m      8\u001b[0m \u001b[1;32mfrom\u001b[0m \u001b[0mpandas_profiling\u001b[0m\u001b[1;33m.\u001b[0m\u001b[0mprofile_report\u001b[0m \u001b[1;32mimport\u001b[0m \u001b[0mProfileReport\u001b[0m\u001b[1;33m\u001b[0m\u001b[1;33m\u001b[0m\u001b[0m\n\u001b[0;32m      9\u001b[0m \u001b[1;32mfrom\u001b[0m \u001b[0mpandas_profiling\u001b[0m\u001b[1;33m.\u001b[0m\u001b[0mversion\u001b[0m \u001b[1;32mimport\u001b[0m \u001b[0m__version__\u001b[0m\u001b[1;33m\u001b[0m\u001b[1;33m\u001b[0m\u001b[0m\n",
      "\u001b[1;32m~\\AppData\\Roaming\\Python\\Python37\\site-packages\\pandas_profiling\\controller\\pandas_decorator.py\u001b[0m in \u001b[0;36m<module>\u001b[1;34m\u001b[0m\n\u001b[0;32m      2\u001b[0m \u001b[1;32mfrom\u001b[0m \u001b[0mpandas\u001b[0m \u001b[1;32mimport\u001b[0m \u001b[0mDataFrame\u001b[0m\u001b[1;33m\u001b[0m\u001b[1;33m\u001b[0m\u001b[0m\n\u001b[0;32m      3\u001b[0m \u001b[1;33m\u001b[0m\u001b[0m\n\u001b[1;32m----> 4\u001b[1;33m \u001b[1;32mfrom\u001b[0m \u001b[0mpandas_profiling\u001b[0m\u001b[1;33m.\u001b[0m\u001b[0m__init__\u001b[0m \u001b[1;32mimport\u001b[0m \u001b[0mProfileReport\u001b[0m\u001b[1;33m\u001b[0m\u001b[1;33m\u001b[0m\u001b[0m\n\u001b[0m\u001b[0;32m      5\u001b[0m \u001b[1;33m\u001b[0m\u001b[0m\n\u001b[0;32m      6\u001b[0m \u001b[1;33m\u001b[0m\u001b[0m\n",
      "\u001b[1;32m~\\AppData\\Roaming\\Python\\Python37\\site-packages\\pandas_profiling\\__init__.py\u001b[0m in \u001b[0;36m<module>\u001b[1;34m\u001b[0m\n\u001b[0;32m      6\u001b[0m \u001b[1;32mfrom\u001b[0m \u001b[0mpandas_profiling\u001b[0m\u001b[1;33m.\u001b[0m\u001b[0mconfig\u001b[0m \u001b[1;32mimport\u001b[0m \u001b[0mConfig\u001b[0m\u001b[1;33m,\u001b[0m \u001b[0mconfig\u001b[0m\u001b[1;33m\u001b[0m\u001b[1;33m\u001b[0m\u001b[0m\n\u001b[0;32m      7\u001b[0m \u001b[1;32mfrom\u001b[0m \u001b[0mpandas_profiling\u001b[0m\u001b[1;33m.\u001b[0m\u001b[0mcontroller\u001b[0m \u001b[1;32mimport\u001b[0m \u001b[0mpandas_decorator\u001b[0m\u001b[1;33m\u001b[0m\u001b[1;33m\u001b[0m\u001b[0m\n\u001b[1;32m----> 8\u001b[1;33m \u001b[1;32mfrom\u001b[0m \u001b[0mpandas_profiling\u001b[0m\u001b[1;33m.\u001b[0m\u001b[0mprofile_report\u001b[0m \u001b[1;32mimport\u001b[0m \u001b[0mProfileReport\u001b[0m\u001b[1;33m\u001b[0m\u001b[1;33m\u001b[0m\u001b[0m\n\u001b[0m\u001b[0;32m      9\u001b[0m \u001b[1;32mfrom\u001b[0m \u001b[0mpandas_profiling\u001b[0m\u001b[1;33m.\u001b[0m\u001b[0mversion\u001b[0m \u001b[1;32mimport\u001b[0m \u001b[0m__version__\u001b[0m\u001b[1;33m\u001b[0m\u001b[1;33m\u001b[0m\u001b[0m\n\u001b[0;32m     10\u001b[0m \u001b[1;33m\u001b[0m\u001b[0m\n",
      "\u001b[1;32m~\\AppData\\Roaming\\Python\\Python37\\site-packages\\pandas_profiling\\profile_report.py\u001b[0m in \u001b[0;36m<module>\u001b[1;34m\u001b[0m\n\u001b[0;32m      9\u001b[0m \u001b[1;33m\u001b[0m\u001b[0m\n\u001b[0;32m     10\u001b[0m \u001b[1;32mfrom\u001b[0m \u001b[0mpandas_profiling\u001b[0m\u001b[1;33m.\u001b[0m\u001b[0mconfig\u001b[0m \u001b[1;32mimport\u001b[0m \u001b[0mconfig\u001b[0m\u001b[1;33m\u001b[0m\u001b[1;33m\u001b[0m\u001b[0m\n\u001b[1;32m---> 11\u001b[1;33m \u001b[1;32mfrom\u001b[0m \u001b[0mpandas_profiling\u001b[0m\u001b[1;33m.\u001b[0m\u001b[0mmodel\u001b[0m\u001b[1;33m.\u001b[0m\u001b[0mdescribe\u001b[0m \u001b[1;32mimport\u001b[0m \u001b[0mdescribe\u001b[0m \u001b[1;32mas\u001b[0m \u001b[0mdescribe_df\u001b[0m\u001b[1;33m\u001b[0m\u001b[1;33m\u001b[0m\u001b[0m\n\u001b[0m\u001b[0;32m     12\u001b[0m \u001b[1;32mfrom\u001b[0m \u001b[0mpandas_profiling\u001b[0m\u001b[1;33m.\u001b[0m\u001b[0mmodel\u001b[0m\u001b[1;33m.\u001b[0m\u001b[0mmessages\u001b[0m \u001b[1;32mimport\u001b[0m \u001b[0mMessageType\u001b[0m\u001b[1;33m\u001b[0m\u001b[1;33m\u001b[0m\u001b[0m\n\u001b[0;32m     13\u001b[0m \u001b[1;32mfrom\u001b[0m \u001b[0mpandas_profiling\u001b[0m\u001b[1;33m.\u001b[0m\u001b[0mreport\u001b[0m \u001b[1;32mimport\u001b[0m \u001b[0mget_report_structure\u001b[0m\u001b[1;33m\u001b[0m\u001b[1;33m\u001b[0m\u001b[0m\n",
      "\u001b[1;32m~\\AppData\\Roaming\\Python\\Python37\\site-packages\\pandas_profiling\\model\\describe.py\u001b[0m in \u001b[0;36m<module>\u001b[1;34m\u001b[0m\n\u001b[0;32m      9\u001b[0m \u001b[1;32mfrom\u001b[0m \u001b[0mpandas_profiling\u001b[0m\u001b[1;33m.\u001b[0m\u001b[0mmodel\u001b[0m\u001b[1;33m.\u001b[0m\u001b[0mbase\u001b[0m \u001b[1;32mimport\u001b[0m \u001b[0mVariable\u001b[0m\u001b[1;33m\u001b[0m\u001b[1;33m\u001b[0m\u001b[0m\n\u001b[0;32m     10\u001b[0m \u001b[1;32mfrom\u001b[0m \u001b[0mpandas_profiling\u001b[0m\u001b[1;33m.\u001b[0m\u001b[0mmodel\u001b[0m\u001b[1;33m.\u001b[0m\u001b[0mcorrelations\u001b[0m \u001b[1;32mimport\u001b[0m \u001b[0mcalculate_correlation\u001b[0m\u001b[1;33m\u001b[0m\u001b[1;33m\u001b[0m\u001b[0m\n\u001b[1;32m---> 11\u001b[1;33m from pandas_profiling.model.summary import (\n\u001b[0m\u001b[0;32m     12\u001b[0m     \u001b[0mget_duplicates\u001b[0m\u001b[1;33m,\u001b[0m\u001b[1;33m\u001b[0m\u001b[1;33m\u001b[0m\u001b[0m\n\u001b[0;32m     13\u001b[0m     \u001b[0mget_messages\u001b[0m\u001b[1;33m,\u001b[0m\u001b[1;33m\u001b[0m\u001b[1;33m\u001b[0m\u001b[0m\n",
      "\u001b[1;32m~\\AppData\\Roaming\\Python\\Python37\\site-packages\\pandas_profiling\\model\\summary.py\u001b[0m in \u001b[0;36m<module>\u001b[1;34m\u001b[0m\n\u001b[0;32m     33\u001b[0m     \u001b[0mmissing_matrix\u001b[0m\u001b[1;33m,\u001b[0m\u001b[1;33m\u001b[0m\u001b[1;33m\u001b[0m\u001b[0m\n\u001b[0;32m     34\u001b[0m )\n\u001b[1;32m---> 35\u001b[1;33m \u001b[1;32mfrom\u001b[0m \u001b[0mpandas_profiling\u001b[0m\u001b[1;33m.\u001b[0m\u001b[0mvisualisation\u001b[0m\u001b[1;33m.\u001b[0m\u001b[0mplot\u001b[0m \u001b[1;32mimport\u001b[0m \u001b[0mscatter_pairwise\u001b[0m\u001b[1;33m\u001b[0m\u001b[1;33m\u001b[0m\u001b[0m\n\u001b[0m\u001b[0;32m     36\u001b[0m \u001b[1;33m\u001b[0m\u001b[0m\n\u001b[0;32m     37\u001b[0m \u001b[1;33m\u001b[0m\u001b[0m\n",
      "\u001b[1;32m~\\AppData\\Roaming\\Python\\Python37\\site-packages\\pandas_profiling\\visualisation\\plot.py\u001b[0m in \u001b[0;36m<module>\u001b[1;34m\u001b[0m\n\u001b[0;32m     11\u001b[0m \u001b[1;32mfrom\u001b[0m \u001b[0mmatplotlib\u001b[0m\u001b[1;33m.\u001b[0m\u001b[0mpatches\u001b[0m \u001b[1;32mimport\u001b[0m \u001b[0mPatch\u001b[0m\u001b[1;33m\u001b[0m\u001b[1;33m\u001b[0m\u001b[0m\n\u001b[0;32m     12\u001b[0m \u001b[1;32mfrom\u001b[0m \u001b[0mpandas\u001b[0m\u001b[1;33m.\u001b[0m\u001b[0mplotting\u001b[0m \u001b[1;32mimport\u001b[0m \u001b[0mregister_matplotlib_converters\u001b[0m\u001b[1;33m\u001b[0m\u001b[1;33m\u001b[0m\u001b[0m\n\u001b[1;32m---> 13\u001b[1;33m \u001b[1;32mfrom\u001b[0m \u001b[0mpkg_resources\u001b[0m \u001b[1;32mimport\u001b[0m \u001b[0mresource_filename\u001b[0m\u001b[1;33m\u001b[0m\u001b[1;33m\u001b[0m\u001b[0m\n\u001b[0m\u001b[0;32m     14\u001b[0m \u001b[1;33m\u001b[0m\u001b[0m\n\u001b[0;32m     15\u001b[0m \u001b[1;32mfrom\u001b[0m \u001b[0mpandas_profiling\u001b[0m\u001b[1;33m.\u001b[0m\u001b[0mconfig\u001b[0m \u001b[1;32mimport\u001b[0m \u001b[0mconfig\u001b[0m\u001b[1;33m\u001b[0m\u001b[1;33m\u001b[0m\u001b[0m\n",
      "\u001b[1;32m~\\AppData\\Local\\Continuum\\anaconda3\\lib\\site-packages\\pkg_resources\\__init__.py\u001b[0m in \u001b[0;36m<module>\u001b[1;34m\u001b[0m\n\u001b[0;32m   3251\u001b[0m \u001b[1;33m\u001b[0m\u001b[0m\n\u001b[0;32m   3252\u001b[0m \u001b[1;33m\u001b[0m\u001b[0m\n\u001b[1;32m-> 3253\u001b[1;33m \u001b[1;33m@\u001b[0m\u001b[0m_call_aside\u001b[0m\u001b[1;33m\u001b[0m\u001b[1;33m\u001b[0m\u001b[0m\n\u001b[0m\u001b[0;32m   3254\u001b[0m \u001b[1;32mdef\u001b[0m \u001b[0m_initialize_master_working_set\u001b[0m\u001b[1;33m(\u001b[0m\u001b[1;33m)\u001b[0m\u001b[1;33m:\u001b[0m\u001b[1;33m\u001b[0m\u001b[1;33m\u001b[0m\u001b[0m\n\u001b[0;32m   3255\u001b[0m     \"\"\"\n",
      "\u001b[1;32m~\\AppData\\Local\\Continuum\\anaconda3\\lib\\site-packages\\pkg_resources\\__init__.py\u001b[0m in \u001b[0;36m_call_aside\u001b[1;34m(f, *args, **kwargs)\u001b[0m\n\u001b[0;32m   3235\u001b[0m \u001b[1;31m# from jaraco.functools 1.3\u001b[0m\u001b[1;33m\u001b[0m\u001b[1;33m\u001b[0m\u001b[1;33m\u001b[0m\u001b[0m\n\u001b[0;32m   3236\u001b[0m \u001b[1;32mdef\u001b[0m \u001b[0m_call_aside\u001b[0m\u001b[1;33m(\u001b[0m\u001b[0mf\u001b[0m\u001b[1;33m,\u001b[0m \u001b[1;33m*\u001b[0m\u001b[0margs\u001b[0m\u001b[1;33m,\u001b[0m \u001b[1;33m**\u001b[0m\u001b[0mkwargs\u001b[0m\u001b[1;33m)\u001b[0m\u001b[1;33m:\u001b[0m\u001b[1;33m\u001b[0m\u001b[1;33m\u001b[0m\u001b[0m\n\u001b[1;32m-> 3237\u001b[1;33m     \u001b[0mf\u001b[0m\u001b[1;33m(\u001b[0m\u001b[1;33m*\u001b[0m\u001b[0margs\u001b[0m\u001b[1;33m,\u001b[0m \u001b[1;33m**\u001b[0m\u001b[0mkwargs\u001b[0m\u001b[1;33m)\u001b[0m\u001b[1;33m\u001b[0m\u001b[1;33m\u001b[0m\u001b[0m\n\u001b[0m\u001b[0;32m   3238\u001b[0m     \u001b[1;32mreturn\u001b[0m \u001b[0mf\u001b[0m\u001b[1;33m\u001b[0m\u001b[1;33m\u001b[0m\u001b[0m\n\u001b[0;32m   3239\u001b[0m \u001b[1;33m\u001b[0m\u001b[0m\n",
      "\u001b[1;32m~\\AppData\\Local\\Continuum\\anaconda3\\lib\\site-packages\\pkg_resources\\__init__.py\u001b[0m in \u001b[0;36m_initialize_master_working_set\u001b[1;34m()\u001b[0m\n\u001b[0;32m   3279\u001b[0m     tuple(\n\u001b[0;32m   3280\u001b[0m         \u001b[0mdist\u001b[0m\u001b[1;33m.\u001b[0m\u001b[0mactivate\u001b[0m\u001b[1;33m(\u001b[0m\u001b[0mreplace\u001b[0m\u001b[1;33m=\u001b[0m\u001b[1;32mFalse\u001b[0m\u001b[1;33m)\u001b[0m\u001b[1;33m\u001b[0m\u001b[1;33m\u001b[0m\u001b[0m\n\u001b[1;32m-> 3281\u001b[1;33m         \u001b[1;32mfor\u001b[0m \u001b[0mdist\u001b[0m \u001b[1;32min\u001b[0m \u001b[0mworking_set\u001b[0m\u001b[1;33m\u001b[0m\u001b[1;33m\u001b[0m\u001b[0m\n\u001b[0m\u001b[0;32m   3282\u001b[0m     )\n\u001b[0;32m   3283\u001b[0m     add_activation_listener(\n",
      "\u001b[1;32m~\\AppData\\Local\\Continuum\\anaconda3\\lib\\site-packages\\pkg_resources\\__init__.py\u001b[0m in \u001b[0;36m<genexpr>\u001b[1;34m(.0)\u001b[0m\n\u001b[0;32m   3279\u001b[0m     tuple(\n\u001b[0;32m   3280\u001b[0m         \u001b[0mdist\u001b[0m\u001b[1;33m.\u001b[0m\u001b[0mactivate\u001b[0m\u001b[1;33m(\u001b[0m\u001b[0mreplace\u001b[0m\u001b[1;33m=\u001b[0m\u001b[1;32mFalse\u001b[0m\u001b[1;33m)\u001b[0m\u001b[1;33m\u001b[0m\u001b[1;33m\u001b[0m\u001b[0m\n\u001b[1;32m-> 3281\u001b[1;33m         \u001b[1;32mfor\u001b[0m \u001b[0mdist\u001b[0m \u001b[1;32min\u001b[0m \u001b[0mworking_set\u001b[0m\u001b[1;33m\u001b[0m\u001b[1;33m\u001b[0m\u001b[0m\n\u001b[0m\u001b[0;32m   3282\u001b[0m     )\n\u001b[0;32m   3283\u001b[0m     add_activation_listener(\n",
      "\u001b[1;32m~\\AppData\\Local\\Continuum\\anaconda3\\lib\\site-packages\\pkg_resources\\__init__.py\u001b[0m in \u001b[0;36mactivate\u001b[1;34m(self, path, replace)\u001b[0m\n\u001b[0;32m   2782\u001b[0m         \u001b[0mself\u001b[0m\u001b[1;33m.\u001b[0m\u001b[0minsert_on\u001b[0m\u001b[1;33m(\u001b[0m\u001b[0mpath\u001b[0m\u001b[1;33m,\u001b[0m \u001b[0mreplace\u001b[0m\u001b[1;33m=\u001b[0m\u001b[0mreplace\u001b[0m\u001b[1;33m)\u001b[0m\u001b[1;33m\u001b[0m\u001b[1;33m\u001b[0m\u001b[0m\n\u001b[0;32m   2783\u001b[0m         \u001b[1;32mif\u001b[0m \u001b[0mpath\u001b[0m \u001b[1;32mis\u001b[0m \u001b[0msys\u001b[0m\u001b[1;33m.\u001b[0m\u001b[0mpath\u001b[0m\u001b[1;33m:\u001b[0m\u001b[1;33m\u001b[0m\u001b[1;33m\u001b[0m\u001b[0m\n\u001b[1;32m-> 2784\u001b[1;33m             \u001b[0mfixup_namespace_packages\u001b[0m\u001b[1;33m(\u001b[0m\u001b[0mself\u001b[0m\u001b[1;33m.\u001b[0m\u001b[0mlocation\u001b[0m\u001b[1;33m)\u001b[0m\u001b[1;33m\u001b[0m\u001b[1;33m\u001b[0m\u001b[0m\n\u001b[0m\u001b[0;32m   2785\u001b[0m             \u001b[1;32mfor\u001b[0m \u001b[0mpkg\u001b[0m \u001b[1;32min\u001b[0m \u001b[0mself\u001b[0m\u001b[1;33m.\u001b[0m\u001b[0m_get_metadata\u001b[0m\u001b[1;33m(\u001b[0m\u001b[1;34m'namespace_packages.txt'\u001b[0m\u001b[1;33m)\u001b[0m\u001b[1;33m:\u001b[0m\u001b[1;33m\u001b[0m\u001b[1;33m\u001b[0m\u001b[0m\n\u001b[0;32m   2786\u001b[0m                 \u001b[1;32mif\u001b[0m \u001b[0mpkg\u001b[0m \u001b[1;32min\u001b[0m \u001b[0msys\u001b[0m\u001b[1;33m.\u001b[0m\u001b[0mmodules\u001b[0m\u001b[1;33m:\u001b[0m\u001b[1;33m\u001b[0m\u001b[1;33m\u001b[0m\u001b[0m\n",
      "\u001b[1;32m~\\AppData\\Local\\Continuum\\anaconda3\\lib\\site-packages\\pkg_resources\\__init__.py\u001b[0m in \u001b[0;36mfixup_namespace_packages\u001b[1;34m(path_item, parent)\u001b[0m\n\u001b[0;32m   2294\u001b[0m     \u001b[1;32mtry\u001b[0m\u001b[1;33m:\u001b[0m\u001b[1;33m\u001b[0m\u001b[1;33m\u001b[0m\u001b[0m\n\u001b[0;32m   2295\u001b[0m         \u001b[1;32mfor\u001b[0m \u001b[0mpackage\u001b[0m \u001b[1;32min\u001b[0m \u001b[0m_namespace_packages\u001b[0m\u001b[1;33m.\u001b[0m\u001b[0mget\u001b[0m\u001b[1;33m(\u001b[0m\u001b[0mparent\u001b[0m\u001b[1;33m,\u001b[0m \u001b[1;33m(\u001b[0m\u001b[1;33m)\u001b[0m\u001b[1;33m)\u001b[0m\u001b[1;33m:\u001b[0m\u001b[1;33m\u001b[0m\u001b[1;33m\u001b[0m\u001b[0m\n\u001b[1;32m-> 2296\u001b[1;33m             \u001b[0msubpath\u001b[0m \u001b[1;33m=\u001b[0m \u001b[0m_handle_ns\u001b[0m\u001b[1;33m(\u001b[0m\u001b[0mpackage\u001b[0m\u001b[1;33m,\u001b[0m \u001b[0mpath_item\u001b[0m\u001b[1;33m)\u001b[0m\u001b[1;33m\u001b[0m\u001b[1;33m\u001b[0m\u001b[0m\n\u001b[0m\u001b[0;32m   2297\u001b[0m             \u001b[1;32mif\u001b[0m \u001b[0msubpath\u001b[0m\u001b[1;33m:\u001b[0m\u001b[1;33m\u001b[0m\u001b[1;33m\u001b[0m\u001b[0m\n\u001b[0;32m   2298\u001b[0m                 \u001b[0mfixup_namespace_packages\u001b[0m\u001b[1;33m(\u001b[0m\u001b[0msubpath\u001b[0m\u001b[1;33m,\u001b[0m \u001b[0mpackage\u001b[0m\u001b[1;33m)\u001b[0m\u001b[1;33m\u001b[0m\u001b[1;33m\u001b[0m\u001b[0m\n",
      "\u001b[1;32m~\\AppData\\Local\\Continuum\\anaconda3\\lib\\site-packages\\pkg_resources\\__init__.py\u001b[0m in \u001b[0;36m_handle_ns\u001b[1;34m(packageName, path_item)\u001b[0m\n\u001b[0;32m   2200\u001b[0m     \u001b[1;32mwith\u001b[0m \u001b[0mwarnings\u001b[0m\u001b[1;33m.\u001b[0m\u001b[0mcatch_warnings\u001b[0m\u001b[1;33m(\u001b[0m\u001b[1;33m)\u001b[0m\u001b[1;33m:\u001b[0m\u001b[1;33m\u001b[0m\u001b[1;33m\u001b[0m\u001b[0m\n\u001b[0;32m   2201\u001b[0m         \u001b[0mwarnings\u001b[0m\u001b[1;33m.\u001b[0m\u001b[0msimplefilter\u001b[0m\u001b[1;33m(\u001b[0m\u001b[1;34m\"ignore\"\u001b[0m\u001b[1;33m)\u001b[0m\u001b[1;33m\u001b[0m\u001b[1;33m\u001b[0m\u001b[0m\n\u001b[1;32m-> 2202\u001b[1;33m         \u001b[0mloader\u001b[0m \u001b[1;33m=\u001b[0m \u001b[0mimporter\u001b[0m\u001b[1;33m.\u001b[0m\u001b[0mfind_module\u001b[0m\u001b[1;33m(\u001b[0m\u001b[0mpackageName\u001b[0m\u001b[1;33m)\u001b[0m\u001b[1;33m\u001b[0m\u001b[1;33m\u001b[0m\u001b[0m\n\u001b[0m\u001b[0;32m   2203\u001b[0m \u001b[1;33m\u001b[0m\u001b[0m\n\u001b[0;32m   2204\u001b[0m     \u001b[1;32mif\u001b[0m \u001b[0mloader\u001b[0m \u001b[1;32mis\u001b[0m \u001b[1;32mNone\u001b[0m\u001b[1;33m:\u001b[0m\u001b[1;33m\u001b[0m\u001b[1;33m\u001b[0m\u001b[0m\n",
      "\u001b[1;32m~\\AppData\\Local\\Continuum\\anaconda3\\lib\\importlib\\_bootstrap_external.py\u001b[0m in \u001b[0;36m_find_module_shim\u001b[1;34m(self, fullname)\u001b[0m\n",
      "\u001b[1;32m~\\AppData\\Local\\Continuum\\anaconda3\\lib\\importlib\\_bootstrap_external.py\u001b[0m in \u001b[0;36mfind_loader\u001b[1;34m(self, fullname)\u001b[0m\n",
      "\u001b[1;32m~\\AppData\\Local\\Continuum\\anaconda3\\lib\\importlib\\_bootstrap_external.py\u001b[0m in \u001b[0;36mfind_spec\u001b[1;34m(self, fullname, target)\u001b[0m\n",
      "\u001b[1;32m~\\AppData\\Local\\Continuum\\anaconda3\\lib\\importlib\\_bootstrap_external.py\u001b[0m in \u001b[0;36m_path_stat\u001b[1;34m(path)\u001b[0m\n",
      "\u001b[1;31mKeyboardInterrupt\u001b[0m: "
     ]
    }
   ],
   "source": [
    "#Importing the function\n",
    "from pandas_profiling import ProfileReport"
   ]
  },
  {
   "cell_type": "code",
   "execution_count": null,
   "metadata": {},
   "outputs": [],
   "source": [
    "like_profile = ProfileReport(like_df, title='Liked Songs Pandas Profiling Report', explorative = True)\n",
    "like_profile"
   ]
  },
  {
   "cell_type": "code",
   "execution_count": null,
   "metadata": {
    "scrolled": false
   },
   "outputs": [],
   "source": [
    "dislike_profile = ProfileReport(dislike_df, title='Disliked Songs Pandas Profiling Report', explorative = True)\n",
    "dislike_profile"
   ]
  },
  {
   "cell_type": "markdown",
   "metadata": {},
   "source": [
    "## Data Visualization"
   ]
  },
  {
   "cell_type": "code",
   "execution_count": 79,
   "metadata": {
    "scrolled": true
   },
   "outputs": [],
   "source": [
    "# Create list of audio feature column names\n",
    "trait_cols = ['danceability', 'energy', 'loudness', 'speechiness', 'acousticness', 'instrumentalness',\n",
    "             'liveness', 'valence']\n",
    "discrete_trait_cols = ['key', 'mode', 'tempo', 'time_signature']"
   ]
  },
  {
   "cell_type": "markdown",
   "metadata": {},
   "source": [
    "#### Dist Plots"
   ]
  },
  {
   "cell_type": "markdown",
   "metadata": {},
   "source": [
    "##### Tempo"
   ]
  },
  {
   "cell_type": "code",
   "execution_count": 201,
   "metadata": {
    "scrolled": true
   },
   "outputs": [
    {
     "data": {
      "image/png": "[encoded data removed]",
      "text/plain": [
       "<Figure size 432x288 with 1 Axes>"
      ]
     },
     "metadata": {
      "needs_background": "light"
     },
     "output_type": "display_data"
    }
   ],
   "source": [
    "sns.distplot(like_df['tempo'], color='indianred', axlabel='Tempo')\n",
    "sns.distplot(dislike_df['tempo'], color='mediumslateblue')\n",
    "plt.savefig('distplots_tempo.png')\n",
    "plt.show()"
   ]
  },
  {
   "cell_type": "markdown",
   "metadata": {},
   "source": [
    "##### Danceability"
   ]
  },
  {
   "cell_type": "code",
   "execution_count": 202,
   "metadata": {
    "scrolled": true
   },
   "outputs": [
    {
     "data": {
      "image/png": "[encoded data removed]",
      "text/plain": [
       "<Figure size 432x288 with 1 Axes>"
      ]
     },
     "metadata": {
      "needs_background": "light"
     },
     "output_type": "display_data"
    }
   ],
   "source": [
    "sns.distplot(like_df['danceability'], color='indianred', axlabel='Danceability')\n",
    "sns.distplot(dislike_df['danceability'], color='mediumslateblue')\n",
    "plt.savefig('distplots_danceability.png')\n",
    "plt.show()"
   ]
  },
  {
   "cell_type": "markdown",
   "metadata": {},
   "source": [
    "##### Energy"
   ]
  },
  {
   "cell_type": "code",
   "execution_count": 203,
   "metadata": {
    "scrolled": true
   },
   "outputs": [
    {
     "data": {
      "image/png": "[encoded data removed]",
      "text/plain": [
       "<Figure size 432x288 with 1 Axes>"
      ]
     },
     "metadata": {
      "needs_background": "light"
     },
     "output_type": "display_data"
    }
   ],
   "source": [
    "sns.distplot(like_df['energy'], color='indianred', axlabel='Energy')\n",
    "sns.distplot(dislike_df['energy'], color='mediumslateblue')\n",
    "plt.savefig('distplots_energy.png')\n",
    "plt.show()"
   ]
  },
  {
   "cell_type": "markdown",
   "metadata": {},
   "source": [
    "##### Loudness"
   ]
  },
  {
   "cell_type": "code",
   "execution_count": 204,
   "metadata": {
    "scrolled": false
   },
   "outputs": [
    {
     "data": {
      "image/png": "[encoded data removed]",
      "text/plain": [
       "<Figure size 432x288 with 1 Axes>"
      ]
     },
     "metadata": {
      "needs_background": "light"
     },
     "output_type": "display_data"
    }
   ],
   "source": [
    "sns.distplot(like_df['loudness'], color='indianred', axlabel='Loudness')\n",
    "sns.distplot(dislike_df['loudness'], color='mediumslateblue')\n",
    "plt.savefig('distplots_loudness.png')\n",
    "plt.show()"
   ]
  },
  {
   "cell_type": "markdown",
   "metadata": {},
   "source": [
    "##### Speechiness"
   ]
  },
  {
   "cell_type": "code",
   "execution_count": 205,
   "metadata": {
    "scrolled": false
   },
   "outputs": [
    {
     "data": {
      "image/png": "[encoded data removed]",
      "text/plain": [
       "<Figure size 432x288 with 1 Axes>"
      ]
     },
     "metadata": {
      "needs_background": "light"
     },
     "output_type": "display_data"
    }
   ],
   "source": [
    "sns.distplot(like_df['speechiness'], color='indianred', axlabel='Speechiness')\n",
    "sns.distplot(dislike_df['speechiness'], color='mediumslateblue')\n",
    "plt.savefig('distplots_speechiness.png')\n",
    "plt.show()"
   ]
  },
  {
   "cell_type": "markdown",
   "metadata": {},
   "source": [
    "##### Acousticness"
   ]
  },
  {
   "cell_type": "code",
   "execution_count": 206,
   "metadata": {
    "scrolled": false
   },
   "outputs": [
    {
     "data": {
      "image/png": "[encoded data removed]",
      "text/plain": [
       "<Figure size 432x288 with 1 Axes>"
      ]
     },
     "metadata": {
      "needs_background": "light"
     },
     "output_type": "display_data"
    }
   ],
   "source": [
    "sns.distplot(like_df['acousticness'], color='indianred', axlabel='Acousticness')\n",
    "sns.distplot(dislike_df['acousticness'], color='mediumslateblue')\n",
    "plt.savefig('distplots_acousticness.png')\n",
    "plt.show()"
   ]
  },
  {
   "cell_type": "markdown",
   "metadata": {},
   "source": [
    "##### Instrumentalness"
   ]
  },
  {
   "cell_type": "code",
   "execution_count": 207,
   "metadata": {
    "scrolled": false
   },
   "outputs": [
    {
     "data": {
      "image/png": "[encoded data removed]",
      "text/plain": [
       "<Figure size 432x288 with 1 Axes>"
      ]
     },
     "metadata": {
      "needs_background": "light"
     },
     "output_type": "display_data"
    }
   ],
   "source": [
    "sns.distplot(like_df['instrumentalness'], color='indianred', axlabel='Instrumentalness')\n",
    "sns.distplot(dislike_df['instrumentalness'], color='mediumslateblue')\n",
    "plt.savefig('distplots_instrumentalness.png')\n",
    "plt.show()"
   ]
  },
  {
   "cell_type": "markdown",
   "metadata": {},
   "source": [
    "##### Liveness"
   ]
  },
  {
   "cell_type": "code",
   "execution_count": 208,
   "metadata": {
    "scrolled": false
   },
   "outputs": [
    {
     "data": {
      "image/png": "[encoded data removed]",
      "text/plain": [
       "<Figure size 432x288 with 1 Axes>"
      ]
     },
     "metadata": {
      "needs_background": "light"
     },
     "output_type": "display_data"
    }
   ],
   "source": [
    "sns.distplot(like_df['liveness'], color='indianred', axlabel='Liveness')\n",
    "sns.distplot(dislike_df['liveness'], color='mediumslateblue')\n",
    "plt.savefig('distplots_liveness.png')\n",
    "plt.show()"
   ]
  },
  {
   "cell_type": "markdown",
   "metadata": {},
   "source": [
    "##### Valence"
   ]
  },
  {
   "cell_type": "code",
   "execution_count": 209,
   "metadata": {
    "scrolled": true
   },
   "outputs": [
    {
     "data": {
      "image/png": "[encoded data removed]",
      "text/plain": [
       "<Figure size 432x288 with 1 Axes>"
      ]
     },
     "metadata": {
      "needs_background": "light"
     },
     "output_type": "display_data"
    }
   ],
   "source": [
    "sns.distplot(like_df['valence'], color='indianred', axlabel='Valence')\n",
    "sns.distplot(dislike_df['valence'], color='mediumslateblue')\n",
    "plt.savefig('distplots_valence.png')\n",
    "plt.show()"
   ]
  },
  {
   "cell_type": "markdown",
   "metadata": {},
   "source": [
    "##### Key"
   ]
  },
  {
   "cell_type": "code",
   "execution_count": 210,
   "metadata": {
    "scrolled": false
   },
   "outputs": [
    {
     "data": {
      "image/png": "[encoded data removed]",
      "text/plain": [
       "<Figure size 432x288 with 1 Axes>"
      ]
     },
     "metadata": {
      "needs_background": "light"
     },
     "output_type": "display_data"
    }
   ],
   "source": [
    "sns.distplot(like_df['key'], color='indianred', axlabel='Key')\n",
    "sns.distplot(dislike_df['key'], color='mediumslateblue')\n",
    "plt.savefig('distplots_key.png')\n",
    "plt.show()"
   ]
  },
  {
   "cell_type": "markdown",
   "metadata": {},
   "source": [
    "##### Time Signature & Mode"
   ]
  },
  {
   "cell_type": "code",
   "execution_count": 200,
   "metadata": {},
   "outputs": [
    {
     "name": "stderr",
     "output_type": "stream",
     "text": [
      "C:\\Users\\febel\\AppData\\Local\\Continuum\\anaconda3\\lib\\site-packages\\ipykernel_launcher.py:6: UserWarning: Matplotlib is currently using module://ipykernel.pylab.backend_inline, which is a non-GUI backend, so cannot show the figure.\n",
      "  \n"
     ]
    },
    {
     "data": {
      "image/png": "[encoded data removed]",
      "text/plain": [
       "<Figure size 432x288 with 4 Axes>"
      ]
     },
     "metadata": {
      "needs_background": "light"
     },
     "output_type": "display_data"
    }
   ],
   "source": [
    "fig, ax = plt.subplots(2, 2)\n",
    "sns.countplot(like_df['time_signature'], ax=ax[0,0])\n",
    "sns.countplot(dislike_df['time_signature'], ax=ax[0,1])\n",
    "sns.countplot(like_df['mode'], ax=ax[1,0])\n",
    "sns.countplot(dislike_df['mode'], ax=ax[1,1])\n",
    "fig.show()\n",
    "\n",
    "fig.savefig('freq_plots_mode_ts.png')"
   ]
  },
  {
   "cell_type": "markdown",
   "metadata": {},
   "source": [
    "#### Pair Plots"
   ]
  },
  {
   "cell_type": "code",
   "execution_count": null,
   "metadata": {},
   "outputs": [],
   "source": [
    "like_pairplot = sns.pairplot(like_df[trait_cols])\n",
    "like_pairplot.savefig(\"like_pairplot.png\")"
   ]
  },
  {
   "cell_type": "code",
   "execution_count": null,
   "metadata": {
    "scrolled": false
   },
   "outputs": [],
   "source": [
    "dislike_pairplot = sns.pairplot(dislike_df[trait_cols])\n",
    "dislike_pairplot.savefig(\"dislike_pairplot.png\")"
   ]
  },
  {
   "cell_type": "markdown",
   "metadata": {},
   "source": [
    "#### Correlation Heatmaps"
   ]
  },
  {
   "cell_type": "code",
   "execution_count": null,
   "metadata": {},
   "outputs": [],
   "source": [
    "# Calculate correlations\n",
    "corr = like_df[trait_cols].corr()\n",
    " \n",
    "# Heatmap\n",
    "like_corr_heatmap = sns.heatmap(corr)\n",
    "figure = like_corr_heatmap.get_figure()    \n",
    "figure.savefig('like_corr_heatmap.png', dpi=400)"
   ]
  },
  {
   "cell_type": "code",
   "execution_count": null,
   "metadata": {},
   "outputs": [],
   "source": [
    "# Calculate correlations\n",
    "corr = dislike_df[trait_cols].corr()\n",
    " \n",
    "# Heatmap\n",
    "dislike_corr_heatmap = sns.heatmap(corr)\n",
    "figure = dislike_corr_heatmap.get_figure()    \n",
    "figure.savefig('dislike_corr_heatmap.png', dpi=400)"
   ]
  },
  {
   "cell_type": "markdown",
   "metadata": {},
   "source": [
    "#### Frequency Plots (Discrete Variables)"
   ]
  },
  {
   "cell_type": "code",
   "execution_count": null,
   "metadata": {},
   "outputs": [],
   "source": [
    "fig, ax = plt.subplots(2, 2)\n",
    "sns.countplot(like_df['key'], ax=ax[0,0])\n",
    "sns.countplot(like_df['mode'], ax=ax[0,1])\n",
    "sns.countplot(like_df['time_signature'], ax=ax[1,0])\n",
    "fig.show()\n",
    "fig.savefig('like_freq_plots.png')"
   ]
  },
  {
   "cell_type": "code",
   "execution_count": null,
   "metadata": {},
   "outputs": [],
   "source": [
    "fig, ax = plt.subplots(2, 2)\n",
    "sns.countplot(dislike_df['key'], ax=ax[0,0])\n",
    "sns.countplot(dislike_df['mode'], ax=ax[0,1])\n",
    "sns.countplot(dislike_df['time_signature'], ax=ax[1,0])\n",
    "fig.show()\n",
    "fig.savefig('dislike_freq_plots.png')"
   ]
  },
  {
   "cell_type": "markdown",
   "metadata": {},
   "source": [
    "## Model Creation/Training"
   ]
  },
  {
   "cell_type": "markdown",
   "metadata": {},
   "source": [
    "#### Preparation"
   ]
  },
  {
   "cell_type": "code",
   "execution_count": 10,
   "metadata": {},
   "outputs": [],
   "source": [
    "# Assign tags to liked and disliked songs\n",
    "like_df['target'] = 1\n",
    "dislike_df['target'] = 0"
   ]
  },
  {
   "cell_type": "code",
   "execution_count": 11,
   "metadata": {},
   "outputs": [],
   "source": [
    "# Create combined dataframe\n",
    "dfs = [like_df, dislike_df]\n",
    "full_df = pd.concat(dfs)"
   ]
  },
  {
   "cell_type": "code",
   "execution_count": 12,
   "metadata": {},
   "outputs": [],
   "source": [
    "# Creating training/test split\n",
    "from sklearn.model_selection import train_test_split\n",
    "train, test = train_test_split(full_df, test_size = 0.15)"
   ]
  },
  {
   "cell_type": "code",
   "execution_count": 13,
   "metadata": {},
   "outputs": [],
   "source": [
    "#Define feature sets\n",
    "features = ['danceability', 'energy', 'key', 'loudness', 'mode', 'speechiness', 'acousticness',\n",
    "              'instrumentalness', 'liveness', 'valence', 'tempo', 'time_signature']\n",
    "x_train = train[features]\n",
    "y_train = train[\"target\"]\n",
    "x_test = test[features]\n",
    "y_test = test[\"target\"]"
   ]
  },
  {
   "cell_type": "markdown",
   "metadata": {},
   "source": [
    "#### Decision Tree"
   ]
  },
  {
   "cell_type": "code",
   "execution_count": 73,
   "metadata": {
    "scrolled": true
   },
   "outputs": [
    {
     "name": "stdout",
     "output_type": "stream",
     "text": [
      "Accuracy using Decision Tree:  61.5 %\n"
     ]
    }
   ],
   "source": [
    "dtc = DecisionTreeClassifier(criterion='gini', \n",
    "                             min_samples_split=100, \n",
    "                             max_depth=11)\n",
    "\n",
    "dt = dtc.fit(x_train, y_train)\n",
    "y_pred = dtc.predict(x_test)\n",
    "score = accuracy_score(y_test, y_pred) * 100\n",
    "print(\"Accuracy using Decision Tree: \", round(score, 1), \"%\")"
   ]
  },
  {
   "cell_type": "markdown",
   "metadata": {},
   "source": [
    "#### K-Nearest Neighbors"
   ]
  },
  {
   "cell_type": "code",
   "execution_count": 15,
   "metadata": {},
   "outputs": [
    {
     "name": "stdout",
     "output_type": "stream",
     "text": [
      "Accuracy using Knn Tree:  49.3 %\n"
     ]
    }
   ],
   "source": [
    "from sklearn.neighbors import KNeighborsClassifier\n",
    "\n",
    "knn = KNeighborsClassifier(3)\n",
    "knn.fit(x_train, y_train)\n",
    "knn_pred = knn.predict(x_test)\n",
    "score = accuracy_score(y_test, knn_pred) * 100\n",
    "print(\"Accuracy using KNN Tree: \", round(score, 1), \"%\")"
   ]
  },
  {
   "cell_type": "markdown",
   "metadata": {},
   "source": [
    "#### AdaBoost/Gradient Boost"
   ]
  },
  {
   "cell_type": "code",
   "execution_count": 16,
   "metadata": {},
   "outputs": [
    {
     "name": "stdout",
     "output_type": "stream",
     "text": [
      "Accuracy using ada:  60.1 %\n",
      "Accuracy using Gbc:  57.7 %\n"
     ]
    }
   ],
   "source": [
    "# Import packages\n",
    "from sklearn.ensemble import AdaBoostClassifier\n",
    "from sklearn.ensemble import GradientBoostingClassifier\n",
    "\n",
    "ada = AdaBoostClassifier(n_estimators=100)\n",
    "ada.fit(x_train, y_train)\n",
    "ada_pred = ada.predict(x_test)\n",
    "score = accuracy_score(y_test, ada_pred) * 100\n",
    "print(\"Accuracy using ada: \", round(score, 1), \"%\")\n",
    "\n",
    "gbc = GradientBoostingClassifier(n_estimators=100, learning_rate=.1, max_depth=1, random_state=0)\n",
    "gbc.fit(x_train, y_train)\n",
    "predicted = gbc.predict(x_test)\n",
    "score = accuracy_score(y_test, predicted)*100\n",
    "print(\"Accuracy using Gbc: \", round(score, 1), \"%\")"
   ]
  },
  {
   "cell_type": "code",
   "execution_count": 30,
   "metadata": {},
   "outputs": [
    {
     "name": "stdout",
     "output_type": "stream",
     "text": [
      "Accuracy using GNB:  60.1 %\n"
     ]
    }
   ],
   "source": [
    "from sklearn.naive_bayes import GaussianNB\n",
    "\n",
    "gnb = GaussianNB()  # instantiate model\n",
    "y_pred = gnb.fit(x_train, y_train).predict(x_test)  # train model and get predictions\n",
    "\n",
    "# get classification metrics\n",
    "gnb_pred = ada.predict(x_test)\n",
    "score = accuracy_score(y_test, gnb_pred) * 100\n",
    "print(\"Accuracy using GNB: \", round(score, 1), \"%\")"
   ]
  },
  {
   "cell_type": "markdown",
   "metadata": {},
   "source": [
    "## Model Tuning"
   ]
  },
  {
   "cell_type": "code",
   "execution_count": 39,
   "metadata": {},
   "outputs": [],
   "source": [
    "from sklearn.model_selection import learning_curve, GridSearchCV, KFold"
   ]
  },
  {
   "cell_type": "code",
   "execution_count": 75,
   "metadata": {},
   "outputs": [],
   "source": [
    "crossvalidation=KFold(n_splits=10,shuffle=True,random_state=1)\n",
    "ada=AdaBoostClassifier()\n",
    "search_grid={'n_estimators':[100,250,500,750,1000,1500,2000],'learning_rate':[.001,0.01,.1]}\n",
    "search=GridSearchCV(estimator=ada, param_grid=search_grid, scoring='accuracy', n_jobs=1, cv=crossvalidation)"
   ]
  },
  {
   "cell_type": "code",
   "execution_count": 76,
   "metadata": {},
   "outputs": [
    {
     "data": {
      "text/plain": [
       "{'learning_rate': 0.001, 'n_estimators': 1500}"
      ]
     },
     "execution_count": 76,
     "metadata": {},
     "output_type": "execute_result"
    }
   ],
   "source": [
    "search.fit(x_test, y_test)\n",
    "search.best_params_"
   ]
  },
  {
   "cell_type": "code",
   "execution_count": 42,
   "metadata": {},
   "outputs": [
    {
     "name": "stdout",
     "output_type": "stream",
     "text": [
      "Accuracy using ada:  64.1 %\n"
     ]
    }
   ],
   "source": [
    "ada2 = AdaBoostClassifier(n_estimators=500, learning_rate=0.1)\n",
    "ada2.fit(x_train, y_train)\n",
    "ada2_pred = ada2.predict(x_test)\n",
    "score = accuracy_score(y_test, ada2_pred) * 100\n",
    "print(\"Accuracy using AdaBoost: \", round(score, 1), \"%\")"
   ]
  },
  {
   "cell_type": "markdown",
   "metadata": {},
   "source": [
    "## Model Re-Testing"
   ]
  },
  {
   "cell_type": "markdown",
   "metadata": {},
   "source": [
    "#### Import Test Playlist"
   ]
  },
  {
   "cell_type": "code",
   "execution_count": 178,
   "metadata": {},
   "outputs": [],
   "source": [
    "# Bring in test playlist\n",
    "# Get data from 'Likes' playlist\n",
    "test_ids = []\n",
    "pl_id = 'spotify:playlist:3NpYLX125c2wLIvTwtfHZm'\n",
    "offset = 0\n",
    "\n",
    "while True:\n",
    "    response = sp.playlist_tracks(pl_id,\n",
    "                                  offset=offset,\n",
    "                                  fields='items.track.id,total')\n",
    "    test_ids.append(response['items'])\n",
    "    offset = offset + len(response['items'])\n",
    "\n",
    "    if len(response['items']) == 0:\n",
    "        break\n",
    "\n",
    "# Flatten list of lists of JSON\n",
    "test_flatten = []\n",
    "for sublist in test_ids:\n",
    "    for item in sublist:\n",
    "        test_flatten.append(item)"
   ]
  },
  {
   "cell_type": "code",
   "execution_count": 179,
   "metadata": {},
   "outputs": [],
   "source": [
    "# Compile list of 'good' track IDs\n",
    "test_id_list = []\n",
    "for i in range(0, len(test_flatten)):\n",
    "    test_id_list.append(test_flatten[i]['track']['id'])\n",
    "test_id_list = [x for x in test_id_list if x]\n",
    "\n",
    "# Retrieve track characteristics\n",
    "test_features = []\n",
    "for i in range(0, len(test_id_list)):\n",
    "    if not test_id_list[i]:\n",
    "        continue\n",
    "    else:\n",
    "        test_features.append(sp.audio_features(test_id_list[i]))\n",
    "\n",
    "# Flatten JSON list\n",
    "test_features_flat = []\n",
    "for sublist in test_features:\n",
    "    for item in sublist:\n",
    "        test_features_flat.append(item)"
   ]
  },
  {
   "cell_type": "code",
   "execution_count": 180,
   "metadata": {},
   "outputs": [
    {
     "data": {
      "text/html": [
       "<div>\n",
       "<style scoped>\n",
       "    .dataframe tbody tr th:only-of-type {\n",
       "        vertical-align: middle;\n",
       "    }\n",
       "\n",
       "    .dataframe tbody tr th {\n",
       "        vertical-align: top;\n",
       "    }\n",
       "\n",
       "    .dataframe thead th {\n",
       "        text-align: right;\n",
       "    }\n",
       "</style>\n",
       "<table border=\"1\" class=\"dataframe\">\n",
       "  <thead>\n",
       "    <tr style=\"text-align: right;\">\n",
       "      <th></th>\n",
       "      <th>danceability</th>\n",
       "      <th>energy</th>\n",
       "      <th>key</th>\n",
       "      <th>loudness</th>\n",
       "      <th>mode</th>\n",
       "      <th>speechiness</th>\n",
       "      <th>acousticness</th>\n",
       "      <th>instrumentalness</th>\n",
       "      <th>liveness</th>\n",
       "      <th>valence</th>\n",
       "      <th>tempo</th>\n",
       "      <th>type</th>\n",
       "      <th>id</th>\n",
       "      <th>uri</th>\n",
       "      <th>track_href</th>\n",
       "      <th>analysis_url</th>\n",
       "      <th>duration_ms</th>\n",
       "      <th>time_signature</th>\n",
       "      <th>song_name</th>\n",
       "      <th>artist</th>\n",
       "    </tr>\n",
       "  </thead>\n",
       "  <tbody>\n",
       "    <tr>\n",
       "      <th>0</th>\n",
       "      <td>0.761</td>\n",
       "      <td>0.525</td>\n",
       "      <td>11</td>\n",
       "      <td>-6.900</td>\n",
       "      <td>1</td>\n",
       "      <td>0.0944</td>\n",
       "      <td>0.4400</td>\n",
       "      <td>0.000007</td>\n",
       "      <td>0.0921</td>\n",
       "      <td>0.531</td>\n",
       "      <td>80.870</td>\n",
       "      <td>audio_features</td>\n",
       "      <td>6CDzDgIUqeDY5g8ujExx2f</td>\n",
       "      <td>spotify:track:6CDzDgIUqeDY5g8ujExx2f</td>\n",
       "      <td>https://api.spotify.com/v1/tracks/6CDzDgIUqeDY...</td>\n",
       "      <td>https://api.spotify.com/v1/audio-analysis/6CDz...</td>\n",
       "      <td>238805</td>\n",
       "      <td>4</td>\n",
       "      <td>Heat Waves</td>\n",
       "      <td>Glass Animals</td>\n",
       "    </tr>\n",
       "    <tr>\n",
       "      <th>1</th>\n",
       "      <td>0.627</td>\n",
       "      <td>0.643</td>\n",
       "      <td>10</td>\n",
       "      <td>-8.833</td>\n",
       "      <td>0</td>\n",
       "      <td>0.0454</td>\n",
       "      <td>0.0363</td>\n",
       "      <td>0.000056</td>\n",
       "      <td>0.0917</td>\n",
       "      <td>0.273</td>\n",
       "      <td>105.012</td>\n",
       "      <td>audio_features</td>\n",
       "      <td>67lAc58pjrw9EnXO5qCRjL</td>\n",
       "      <td>spotify:track:67lAc58pjrw9EnXO5qCRjL</td>\n",
       "      <td>https://api.spotify.com/v1/tracks/67lAc58pjrw9...</td>\n",
       "      <td>https://api.spotify.com/v1/audio-analysis/67lA...</td>\n",
       "      <td>392000</td>\n",
       "      <td>4</td>\n",
       "      <td>I Will Stay</td>\n",
       "      <td>Flux Pavilion</td>\n",
       "    </tr>\n",
       "    <tr>\n",
       "      <th>2</th>\n",
       "      <td>0.537</td>\n",
       "      <td>0.856</td>\n",
       "      <td>2</td>\n",
       "      <td>-4.350</td>\n",
       "      <td>1</td>\n",
       "      <td>0.0685</td>\n",
       "      <td>0.0751</td>\n",
       "      <td>0.000813</td>\n",
       "      <td>0.3350</td>\n",
       "      <td>0.401</td>\n",
       "      <td>129.836</td>\n",
       "      <td>audio_features</td>\n",
       "      <td>6aLl8i6NEA3nzPWVtjFhGp</td>\n",
       "      <td>spotify:track:6aLl8i6NEA3nzPWVtjFhGp</td>\n",
       "      <td>https://api.spotify.com/v1/tracks/6aLl8i6NEA3n...</td>\n",
       "      <td>https://api.spotify.com/v1/audio-analysis/6aLl...</td>\n",
       "      <td>216000</td>\n",
       "      <td>4</td>\n",
       "      <td>Bass Jam</td>\n",
       "      <td>BONNIE X CLYDE</td>\n",
       "    </tr>\n",
       "    <tr>\n",
       "      <th>3</th>\n",
       "      <td>0.572</td>\n",
       "      <td>0.902</td>\n",
       "      <td>1</td>\n",
       "      <td>-4.294</td>\n",
       "      <td>1</td>\n",
       "      <td>0.0418</td>\n",
       "      <td>0.1230</td>\n",
       "      <td>0.000024</td>\n",
       "      <td>0.1660</td>\n",
       "      <td>0.543</td>\n",
       "      <td>164.988</td>\n",
       "      <td>audio_features</td>\n",
       "      <td>4rvfuttxt34i3rPbHYkSw1</td>\n",
       "      <td>spotify:track:4rvfuttxt34i3rPbHYkSw1</td>\n",
       "      <td>https://api.spotify.com/v1/tracks/4rvfuttxt34i...</td>\n",
       "      <td>https://api.spotify.com/v1/audio-analysis/4rvf...</td>\n",
       "      <td>170364</td>\n",
       "      <td>4</td>\n",
       "      <td>Voices</td>\n",
       "      <td>Prblm Chld</td>\n",
       "    </tr>\n",
       "    <tr>\n",
       "      <th>4</th>\n",
       "      <td>0.710</td>\n",
       "      <td>0.909</td>\n",
       "      <td>2</td>\n",
       "      <td>-2.777</td>\n",
       "      <td>1</td>\n",
       "      <td>0.0639</td>\n",
       "      <td>0.0135</td>\n",
       "      <td>0.001230</td>\n",
       "      <td>0.3030</td>\n",
       "      <td>0.648</td>\n",
       "      <td>115.001</td>\n",
       "      <td>audio_features</td>\n",
       "      <td>6EJiVf7U0p1BBfs0qqeb1f</td>\n",
       "      <td>spotify:track:6EJiVf7U0p1BBfs0qqeb1f</td>\n",
       "      <td>https://api.spotify.com/v1/tracks/6EJiVf7U0p1B...</td>\n",
       "      <td>https://api.spotify.com/v1/audio-analysis/6EJi...</td>\n",
       "      <td>207960</td>\n",
       "      <td>4</td>\n",
       "      <td>Cut To The Feeling</td>\n",
       "      <td>Carly Rae Jepsen</td>\n",
       "    </tr>\n",
       "  </tbody>\n",
       "</table>\n",
       "</div>"
      ],
      "text/plain": [
       "   danceability  energy  key  loudness  mode  speechiness  acousticness  \\\n",
       "0         0.761   0.525   11    -6.900     1       0.0944        0.4400   \n",
       "1         0.627   0.643   10    -8.833     0       0.0454        0.0363   \n",
       "2         0.537   0.856    2    -4.350     1       0.0685        0.0751   \n",
       "3         0.572   0.902    1    -4.294     1       0.0418        0.1230   \n",
       "4         0.710   0.909    2    -2.777     1       0.0639        0.0135   \n",
       "\n",
       "   instrumentalness  liveness  valence    tempo            type  \\\n",
       "0          0.000007    0.0921    0.531   80.870  audio_features   \n",
       "1          0.000056    0.0917    0.273  105.012  audio_features   \n",
       "2          0.000813    0.3350    0.401  129.836  audio_features   \n",
       "3          0.000024    0.1660    0.543  164.988  audio_features   \n",
       "4          0.001230    0.3030    0.648  115.001  audio_features   \n",
       "\n",
       "                       id                                   uri  \\\n",
       "0  6CDzDgIUqeDY5g8ujExx2f  spotify:track:6CDzDgIUqeDY5g8ujExx2f   \n",
       "1  67lAc58pjrw9EnXO5qCRjL  spotify:track:67lAc58pjrw9EnXO5qCRjL   \n",
       "2  6aLl8i6NEA3nzPWVtjFhGp  spotify:track:6aLl8i6NEA3nzPWVtjFhGp   \n",
       "3  4rvfuttxt34i3rPbHYkSw1  spotify:track:4rvfuttxt34i3rPbHYkSw1   \n",
       "4  6EJiVf7U0p1BBfs0qqeb1f  spotify:track:6EJiVf7U0p1BBfs0qqeb1f   \n",
       "\n",
       "                                          track_href  \\\n",
       "0  https://api.spotify.com/v1/tracks/6CDzDgIUqeDY...   \n",
       "1  https://api.spotify.com/v1/tracks/67lAc58pjrw9...   \n",
       "2  https://api.spotify.com/v1/tracks/6aLl8i6NEA3n...   \n",
       "3  https://api.spotify.com/v1/tracks/4rvfuttxt34i...   \n",
       "4  https://api.spotify.com/v1/tracks/6EJiVf7U0p1B...   \n",
       "\n",
       "                                        analysis_url  duration_ms  \\\n",
       "0  https://api.spotify.com/v1/audio-analysis/6CDz...       238805   \n",
       "1  https://api.spotify.com/v1/audio-analysis/67lA...       392000   \n",
       "2  https://api.spotify.com/v1/audio-analysis/6aLl...       216000   \n",
       "3  https://api.spotify.com/v1/audio-analysis/4rvf...       170364   \n",
       "4  https://api.spotify.com/v1/audio-analysis/6EJi...       207960   \n",
       "\n",
       "   time_signature           song_name            artist  \n",
       "0               4          Heat Waves     Glass Animals  \n",
       "1               4         I Will Stay     Flux Pavilion  \n",
       "2               4            Bass Jam    BONNIE X CLYDE  \n",
       "3               4              Voices        Prblm Chld  \n",
       "4               4  Cut To The Feeling  Carly Rae Jepsen  "
      ]
     },
     "execution_count": 180,
     "metadata": {},
     "output_type": "execute_result"
    }
   ],
   "source": [
    "# Create 'Like' dataframe\n",
    "test_df = pd.DataFrame.from_records(test_features_flat)\n",
    "\n",
    "# Retrieve song and artist names to add to dataframe\n",
    "test_song_names = []\n",
    "test_artists = []\n",
    "for index, row in test_df.iterrows():\n",
    "    try:\n",
    "        response = sp.track(str(row['uri']))\n",
    "        test_song_names.append(response['name'])\n",
    "        test_artists.append(response['artists'][0]['name'])\n",
    "    except SpotifyException as e:\n",
    "        test_song_names.append('Unknown')\n",
    "        test_artists.append('Unknown')\n",
    "\n",
    "# Create 'song_name' and 'artist' columns\n",
    "test_df['song_name'] = test_song_names\n",
    "test_df['artist'] = test_artists\n",
    "\n",
    "# Check dataframe\n",
    "test_df.head()"
   ]
  },
  {
   "cell_type": "code",
   "execution_count": 181,
   "metadata": {},
   "outputs": [],
   "source": [
    "t = ([1] * 25) + ([0] * 25)\n",
    "\n",
    "test_df['target'] = t"
   ]
  },
  {
   "cell_type": "markdown",
   "metadata": {},
   "source": [
    "#### Test Data Visualizations"
   ]
  },
  {
   "cell_type": "code",
   "execution_count": 107,
   "metadata": {
    "scrolled": true
   },
   "outputs": [
    {
     "data": {
      "image/png": "[encoded data removed]",
      "text/plain": [
       "<Figure size 432x288 with 1 Axes>"
      ]
     },
     "metadata": {
      "needs_background": "light"
     },
     "output_type": "display_data"
    }
   ],
   "source": [
    "sns.distplot(test_df['loudness'][test_df['target'] == 1], color='indianred', axlabel='Loudness')\n",
    "sns.distplot(test_df['loudness'][test_df['target'] == 0], color='mediumslateblue')\n",
    "plt.show()"
   ]
  },
  {
   "cell_type": "markdown",
   "metadata": {},
   "source": [
    "##### Tempo"
   ]
  },
  {
   "cell_type": "code",
   "execution_count": 110,
   "metadata": {
    "scrolled": true
   },
   "outputs": [
    {
     "data": {
      "image/png": "[encoded data removed]",
      "text/plain": [
       "<Figure size 432x288 with 1 Axes>"
      ]
     },
     "metadata": {
      "needs_background": "light"
     },
     "output_type": "display_data"
    }
   ],
   "source": [
    "sns.distplot(test_df['tempo'][test_df['target'] == 1], color='indianred', axlabel='Tempo')\n",
    "sns.distplot(test_df['tempo'][test_df['target'] == 0], color='mediumslateblue')\n",
    "plt.show()"
   ]
  },
  {
   "cell_type": "markdown",
   "metadata": {},
   "source": [
    "##### Danceability"
   ]
  },
  {
   "cell_type": "code",
   "execution_count": 111,
   "metadata": {
    "scrolled": true
   },
   "outputs": [
    {
     "data": {
      "image/png": "[encoded data removed]",
      "text/plain": [
       "<Figure size 432x288 with 1 Axes>"
      ]
     },
     "metadata": {
      "needs_background": "light"
     },
     "output_type": "display_data"
    }
   ],
   "source": [
    "sns.distplot(test_df['danceability'][test_df['target'] == 1], color='indianred', axlabel='Danceability')\n",
    "sns.distplot(test_df['danceability'][test_df['target'] == 0], color='mediumslateblue')\n",
    "plt.show()"
   ]
  },
  {
   "cell_type": "markdown",
   "metadata": {},
   "source": [
    "##### Energy"
   ]
  },
  {
   "cell_type": "code",
   "execution_count": 86,
   "metadata": {
    "scrolled": false
   },
   "outputs": [
    {
     "data": {
      "image/png": "[encoded data removed]",
      "text/plain": [
       "<Figure size 432x288 with 1 Axes>"
      ]
     },
     "metadata": {
      "needs_background": "light"
     },
     "output_type": "display_data"
    }
   ],
   "source": [
    "sns.distplot(test_df['energy'][test_df['target'] == 1], color='indianred', axlabel='Energy')\n",
    "sns.distplot(test_df['energy'][test_df['target'] == 0], color='mediumslateblue')\n",
    "plt.show()"
   ]
  },
  {
   "cell_type": "markdown",
   "metadata": {},
   "source": [
    "##### Speechiness"
   ]
  },
  {
   "cell_type": "code",
   "execution_count": 112,
   "metadata": {
    "scrolled": false
   },
   "outputs": [
    {
     "data": {
      "image/png": "[encoded data removed]",
      "text/plain": [
       "<Figure size 432x288 with 1 Axes>"
      ]
     },
     "metadata": {
      "needs_background": "light"
     },
     "output_type": "display_data"
    }
   ],
   "source": [
    "sns.distplot(test_df['speechiness'][test_df['target'] == 1], color='indianred', axlabel='Speechiness')\n",
    "sns.distplot(test_df['speechiness'][test_df['target'] == 0], color='mediumslateblue')\n",
    "plt.show()"
   ]
  },
  {
   "cell_type": "markdown",
   "metadata": {},
   "source": [
    "##### Acousticness"
   ]
  },
  {
   "cell_type": "code",
   "execution_count": 113,
   "metadata": {
    "scrolled": false
   },
   "outputs": [
    {
     "data": {
      "image/png": "[encoded data removed]",
      "text/plain": [
       "<Figure size 432x288 with 1 Axes>"
      ]
     },
     "metadata": {
      "needs_background": "light"
     },
     "output_type": "display_data"
    }
   ],
   "source": [
    "sns.distplot(test_df['acousticness'][test_df['target'] == 1], color='indianred', axlabel='Acousticness')\n",
    "sns.distplot(test_df['acousticness'][test_df['target'] == 0], color='mediumslateblue')\n",
    "plt.show()"
   ]
  },
  {
   "cell_type": "markdown",
   "metadata": {},
   "source": [
    "##### Instrumentalness"
   ]
  },
  {
   "cell_type": "code",
   "execution_count": 116,
   "metadata": {
    "scrolled": false
   },
   "outputs": [
    {
     "data": {
      "image/png": "[encoded data removed]",
      "text/plain": [
       "<Figure size 432x288 with 1 Axes>"
      ]
     },
     "metadata": {
      "needs_background": "light"
     },
     "output_type": "display_data"
    }
   ],
   "source": [
    "sns.distplot(test_df['instrumentalness'][test_df['target'] == 1], color='indianred', axlabel='Instrumentalness')\n",
    "sns.distplot(test_df['instrumentalness'][test_df['target'] == 0], color='mediumslateblue')\n",
    "plt.xlim(0.0,  0.4)\n",
    "plt.show()\n"
   ]
  },
  {
   "cell_type": "markdown",
   "metadata": {},
   "source": [
    "##### Liveness"
   ]
  },
  {
   "cell_type": "code",
   "execution_count": 117,
   "metadata": {
    "scrolled": false
   },
   "outputs": [
    {
     "data": {
      "image/png": "[encoded data removed]",
      "text/plain": [
       "<Figure size 432x288 with 1 Axes>"
      ]
     },
     "metadata": {
      "needs_background": "light"
     },
     "output_type": "display_data"
    }
   ],
   "source": [
    "sns.distplot(test_df['liveness'][test_df['target'] == 1], color='indianred', axlabel='Liveness')\n",
    "sns.distplot(test_df['liveness'][test_df['target'] == 0], color='mediumslateblue')\n",
    "plt.show()\n"
   ]
  },
  {
   "cell_type": "markdown",
   "metadata": {},
   "source": [
    "##### Valence"
   ]
  },
  {
   "cell_type": "code",
   "execution_count": 118,
   "metadata": {
    "scrolled": true
   },
   "outputs": [
    {
     "data": {
      "image/png": "[encoded data removed]",
      "text/plain": [
       "<Figure size 432x288 with 1 Axes>"
      ]
     },
     "metadata": {
      "needs_background": "light"
     },
     "output_type": "display_data"
    }
   ],
   "source": [
    "sns.distplot(test_df['valence'][test_df['target'] == 1], color='indianred', axlabel='Valence')\n",
    "sns.distplot(test_df['valence'][test_df['target'] == 0], color='mediumslateblue')\n",
    "plt.show()\n"
   ]
  },
  {
   "cell_type": "markdown",
   "metadata": {},
   "source": [
    "##### Key"
   ]
  },
  {
   "cell_type": "code",
   "execution_count": 119,
   "metadata": {
    "scrolled": false
   },
   "outputs": [
    {
     "data": {
      "image/png": "[encoded data removed]",
      "text/plain": [
       "<Figure size 432x288 with 1 Axes>"
      ]
     },
     "metadata": {
      "needs_background": "light"
     },
     "output_type": "display_data"
    }
   ],
   "source": [
    "sns.distplot(test_df['key'][test_df['target'] == 1], color='indianred', axlabel='Key')\n",
    "sns.distplot(test_df['key'][test_df['target'] == 0], color='mediumslateblue')\n",
    "plt.show()\n"
   ]
  },
  {
   "cell_type": "markdown",
   "metadata": {},
   "source": [
    "##### Time Signature & Mode"
   ]
  },
  {
   "cell_type": "code",
   "execution_count": 127,
   "metadata": {
    "scrolled": true
   },
   "outputs": [
    {
     "name": "stderr",
     "output_type": "stream",
     "text": [
      "C:\\Users\\febel\\AppData\\Local\\Continuum\\anaconda3\\lib\\site-packages\\ipykernel_launcher.py:6: UserWarning: Matplotlib is currently using module://ipykernel.pylab.backend_inline, which is a non-GUI backend, so cannot show the figure.\n",
      "  \n"
     ]
    },
    {
     "data": {
      "image/png": "[encoded data removed]",
      "text/plain": [
       "<Figure size 432x288 with 4 Axes>"
      ]
     },
     "metadata": {
      "needs_background": "light"
     },
     "output_type": "display_data"
    }
   ],
   "source": [
    "fig, ax = plt.subplots(2, 2)\n",
    "sns.countplot(test_df['time_signature'][test_df['target'] == 1], ax=ax[0,0])\n",
    "sns.countplot(test_df['time_signature'][test_df['target'] == 0], ax=ax[0,1])\n",
    "sns.countplot(test_df['mode'][test_df['target'] == 1], ax=ax[1,0])\n",
    "sns.countplot(test_df['mode'][test_df['target'] == 0], ax=ax[1,1])\n",
    "fig.show()\n",
    "# fig.savefig('like_freq_plots.png')"
   ]
  },
  {
   "cell_type": "markdown",
   "metadata": {},
   "source": [
    "#### Testing/Evaluation"
   ]
  },
  {
   "cell_type": "code",
   "execution_count": 189,
   "metadata": {},
   "outputs": [
    {
     "name": "stdout",
     "output_type": "stream",
     "text": [
      "Accuracy using AdaBoost:  78.0 %\n",
      "              precision    recall  f1-score   support\n",
      "\n",
      "      Actual       0.94      0.60      0.73        25\n",
      "   Predicted       0.71      0.96      0.81        25\n",
      "\n",
      "    accuracy                           0.78        50\n",
      "   macro avg       0.82      0.78      0.77        50\n",
      "weighted avg       0.82      0.78      0.77        50\n",
      "\n"
     ]
    },
    {
     "data": {
      "image/png": "[encoded data removed]",
      "text/plain": [
       "<Figure size 432x288 with 2 Axes>"
      ]
     },
     "metadata": {
      "needs_background": "light"
     },
     "output_type": "display_data"
    }
   ],
   "source": [
    "from sklearn.metrics import confusion_matrix, classification_report\n",
    "\n",
    "adab = AdaBoostClassifier(n_estimators=500, learning_rate=0.1)\n",
    "adab.fit(x_train, y_train)\n",
    "adab_pred = adab.predict(test_df[features])\n",
    "score = accuracy_score(test_df['target'], adab_pred) * 100\n",
    "print(\"Accuracy using AdaBoost: \", round(score, 1), \"%\")\n",
    "\n",
    "# Add predictions to dataframe\n",
    "test_df['pred'] = adab_pred\n",
    "\n",
    "# Generate evaluation report\n",
    "print(classification_report(test_df['target'], test_df['pred'], \n",
    "                            target_names=['Actual', 'Predicted']))\n",
    "\n",
    "# Generate confusion matrix\n",
    "confusion_matrix = pd.crosstab(test_df['target'], test_df['pred'], \n",
    "                               rownames=['Actual'], colnames=['Predicted'])\n",
    "sns.heatmap(confusion_matrix, annot=True)\n",
    "plt.show()"
   ]
  }
 ],
 "metadata": {
  "kernelspec": {
   "display_name": "Python 3",
   "language": "python",
   "name": "python3"
  },
  "language_info": {
   "codemirror_mode": {
    "name": "ipython",
    "version": 3
   },
   "file_extension": ".py",
   "mimetype": "text/x-python",
   "name": "python",
   "nbconvert_exporter": "python",
   "pygments_lexer": "ipython3",
   "version": "3.7.3"
  }
 },
 "nbformat": 4,
 "nbformat_minor": 2
}
