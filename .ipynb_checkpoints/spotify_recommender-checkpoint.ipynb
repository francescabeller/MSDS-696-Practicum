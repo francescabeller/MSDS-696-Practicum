{
 "cells": [
  {
   "cell_type": "markdown",
   "metadata": {},
   "source": [
    "# Spotify Recommendation Algorithm"
   ]
  },
  {
   "cell_type": "markdown",
   "metadata": {},
   "source": [
    "### Spotify Authentication"
   ]
  },
  {
   "cell_type": "code",
   "execution_count": 1,
   "metadata": {},
   "outputs": [],
   "source": [
    "# Import libraries\n",
    "import spotipy\n",
    "from spotipy.oauth2 import SpotifyClientCredentials\n",
    "from spotipy.exceptions import SpotifyException\n",
    "import pandas as pd\n",
    "import seaborn as sns\n",
    "import matplotlib.pyplot as plt\n",
    "%matplotlib qt\n",
    "\n",
    "# Set account info\n",
    "cid = '81fee852cceb4259910e7d2ff78493c3'\n",
    "secret = 'ad4360215d7641ee809275cc5cdd4a6c'\n",
    "username = 'francescab13'\n",
    "\n",
    "# Connect and create Spotify instance\n",
    "client_credentials_manager = SpotifyClientCredentials(client_id=cid, client_secret=secret)\n",
    "sp = spotipy.Spotify(client_credentials_manager=client_credentials_manager)"
   ]
  },
  {
   "cell_type": "markdown",
   "metadata": {},
   "source": [
    "## Data Gathering"
   ]
  },
  {
   "cell_type": "markdown",
   "metadata": {},
   "source": [
    "#### Retrieve track ID's from 'Like' and 'Dislike' playlists"
   ]
  },
  {
   "cell_type": "code",
   "execution_count": 2,
   "metadata": {},
   "outputs": [
    {
     "data": {
      "text/plain": [
       "[{'track': {'id': '75Q69chmd8CEZbVsA4CDMm'}},\n",
       " {'track': {'id': '38kjIfRtXsUxXyzhsKwX7i'}},\n",
       " {'track': {'id': '1YT8xkroYGNLGR4qhuWLC4'}},\n",
       " {'track': {'id': '76gYk9g0bZj47NyIKzjLF6'}},\n",
       " {'track': {'id': '7tvuLLroI0n6uYBWuFig5d'}}]"
      ]
     },
     "execution_count": 2,
     "metadata": {},
     "output_type": "execute_result"
    }
   ],
   "source": [
    "# Get data from 'Likes' playlist\n",
    "good_ids = []\n",
    "pl_id = 'spotify:playlist:2O6XH1ip37KOllmc1KoYEs'\n",
    "offset = 0\n",
    "\n",
    "while True:\n",
    "    response = sp.playlist_tracks(pl_id,\n",
    "                                  offset=offset,\n",
    "                                  fields='items.track.id,total')\n",
    "    good_ids.append(response['items'])\n",
    "    offset = offset + len(response['items'])\n",
    "\n",
    "    if len(response['items']) == 0:\n",
    "        break\n",
    "\n",
    "# Flatten list of lists of JSON\n",
    "good_flatten = []\n",
    "for sublist in good_ids:\n",
    "    for item in sublist:\n",
    "        good_flatten.append(item)\n",
    "\n",
    "# Check good track ID list\n",
    "good_flatten[0:5]"
   ]
  },
  {
   "cell_type": "code",
   "execution_count": 3,
   "metadata": {},
   "outputs": [
    {
     "data": {
      "text/plain": [
       "[{'track': {'id': '1YwNlWLf8auhazSQUDQLFU'}},\n",
       " {'track': {'id': '1xShPgQbOUa98avWJQFDBY'}},\n",
       " {'track': {'id': '3GREm6zSHwKZsJxl0hqbAQ'}},\n",
       " {'track': {'id': '0C6EIiQu8CS4eYtOCMEiAd'}},\n",
       " {'track': {'id': '0puf9yIluy9W0vpMEUoAnN'}}]"
      ]
     },
     "execution_count": 3,
     "metadata": {},
     "output_type": "execute_result"
    }
   ],
   "source": [
    "# Get data from 'Dislikes' playlist\n",
    "bad_ids = []\n",
    "pl_id = 'spotify:playlist:58KlzYsGNQoujtrQc2CU5d'\n",
    "offset = 0\n",
    "\n",
    "while True:\n",
    "    response = sp.playlist_tracks(pl_id,\n",
    "                                  offset=offset,\n",
    "                                  fields='items.track.id,total')\n",
    "    bad_ids.append(response['items'])\n",
    "    offset = offset + len(response['items'])\n",
    "\n",
    "    if len(response['items']) == 0:\n",
    "        break\n",
    "\n",
    "# Flatten list of lists of JSON\n",
    "bad_flatten = []\n",
    "for sublist in bad_ids:\n",
    "    for item in sublist:\n",
    "        bad_flatten.append(item)\n",
    "        \n",
    "# Check bad track ID list\n",
    "bad_flatten[0:5]"
   ]
  },
  {
   "cell_type": "markdown",
   "metadata": {},
   "source": [
    "#### Get track characteristic data"
   ]
  },
  {
   "cell_type": "code",
   "execution_count": 4,
   "metadata": {},
   "outputs": [
    {
     "data": {
      "text/plain": [
       "[{'danceability': 0.833,\n",
       "  'energy': 0.545,\n",
       "  'key': 2,\n",
       "  'loudness': -4.004,\n",
       "  'mode': 0,\n",
       "  'speechiness': 0.462,\n",
       "  'acousticness': 0.352,\n",
       "  'instrumentalness': 0,\n",
       "  'liveness': 0.0915,\n",
       "  'valence': 0.541,\n",
       "  'tempo': 77.035,\n",
       "  'type': 'audio_features',\n",
       "  'id': '75Q69chmd8CEZbVsA4CDMm',\n",
       "  'uri': 'spotify:track:75Q69chmd8CEZbVsA4CDMm',\n",
       "  'track_href': 'https://api.spotify.com/v1/tracks/75Q69chmd8CEZbVsA4CDMm',\n",
       "  'analysis_url': 'https://api.spotify.com/v1/audio-analysis/75Q69chmd8CEZbVsA4CDMm',\n",
       "  'duration_ms': 148494,\n",
       "  'time_signature': 4},\n",
       " {'danceability': 0.596,\n",
       "  'energy': 0.248,\n",
       "  'key': 0,\n",
       "  'loudness': -14.576,\n",
       "  'mode': 0,\n",
       "  'speechiness': 0.274,\n",
       "  'acousticness': 0.794,\n",
       "  'instrumentalness': 0,\n",
       "  'liveness': 0.0872,\n",
       "  'valence': 0.189,\n",
       "  'tempo': 112.043,\n",
       "  'type': 'audio_features',\n",
       "  'id': '38kjIfRtXsUxXyzhsKwX7i',\n",
       "  'uri': 'spotify:track:38kjIfRtXsUxXyzhsKwX7i',\n",
       "  'track_href': 'https://api.spotify.com/v1/tracks/38kjIfRtXsUxXyzhsKwX7i',\n",
       "  'analysis_url': 'https://api.spotify.com/v1/audio-analysis/38kjIfRtXsUxXyzhsKwX7i',\n",
       "  'duration_ms': 383025,\n",
       "  'time_signature': 4},\n",
       " {'danceability': 0.546,\n",
       "  'energy': 0.771,\n",
       "  'key': 3,\n",
       "  'loudness': -7.56,\n",
       "  'mode': 0,\n",
       "  'speechiness': 0.116,\n",
       "  'acousticness': 0.0117,\n",
       "  'instrumentalness': 0.351,\n",
       "  'liveness': 0.335,\n",
       "  'valence': 0.701,\n",
       "  'tempo': 130.224,\n",
       "  'type': 'audio_features',\n",
       "  'id': '1YT8xkroYGNLGR4qhuWLC4',\n",
       "  'uri': 'spotify:track:1YT8xkroYGNLGR4qhuWLC4',\n",
       "  'track_href': 'https://api.spotify.com/v1/tracks/1YT8xkroYGNLGR4qhuWLC4',\n",
       "  'analysis_url': 'https://api.spotify.com/v1/audio-analysis/1YT8xkroYGNLGR4qhuWLC4',\n",
       "  'duration_ms': 265947,\n",
       "  'time_signature': 4},\n",
       " {'danceability': 0.515,\n",
       "  'energy': 0.827,\n",
       "  'key': 7,\n",
       "  'loudness': -5.423,\n",
       "  'mode': 1,\n",
       "  'speechiness': 0.0923,\n",
       "  'acousticness': 0.000361,\n",
       "  'instrumentalness': 0.838,\n",
       "  'liveness': 0.138,\n",
       "  'valence': 0.427,\n",
       "  'tempo': 173.988,\n",
       "  'type': 'audio_features',\n",
       "  'id': '76gYk9g0bZj47NyIKzjLF6',\n",
       "  'uri': 'spotify:track:76gYk9g0bZj47NyIKzjLF6',\n",
       "  'track_href': 'https://api.spotify.com/v1/tracks/76gYk9g0bZj47NyIKzjLF6',\n",
       "  'analysis_url': 'https://api.spotify.com/v1/audio-analysis/76gYk9g0bZj47NyIKzjLF6',\n",
       "  'duration_ms': 246094,\n",
       "  'time_signature': 4},\n",
       " {'danceability': 0.387,\n",
       "  'energy': 0.678,\n",
       "  'key': 0,\n",
       "  'loudness': -8.399,\n",
       "  'mode': 1,\n",
       "  'speechiness': 0.0817,\n",
       "  'acousticness': 0.00108,\n",
       "  'instrumentalness': 0.872,\n",
       "  'liveness': 0.101,\n",
       "  'valence': 0.368,\n",
       "  'tempo': 172.641,\n",
       "  'type': 'audio_features',\n",
       "  'id': '7tvuLLroI0n6uYBWuFig5d',\n",
       "  'uri': 'spotify:track:7tvuLLroI0n6uYBWuFig5d',\n",
       "  'track_href': 'https://api.spotify.com/v1/tracks/7tvuLLroI0n6uYBWuFig5d',\n",
       "  'analysis_url': 'https://api.spotify.com/v1/audio-analysis/7tvuLLroI0n6uYBWuFig5d',\n",
       "  'duration_ms': 562707,\n",
       "  'time_signature': 3}]"
      ]
     },
     "execution_count": 4,
     "metadata": {},
     "output_type": "execute_result"
    }
   ],
   "source": [
    "# Compile list of 'good' track IDs\n",
    "good_id_list = []\n",
    "for i in range(0, len(good_flatten)):\n",
    "    good_id_list.append(good_flatten[i]['track']['id'])\n",
    "good_id_list = [x for x in good_id_list if x]\n",
    "\n",
    "# Retrieve track characteristics\n",
    "good_features = []\n",
    "for i in range(0, len(good_id_list)):\n",
    "    if not good_id_list[i]:\n",
    "        continue\n",
    "    else:\n",
    "        good_features.append(sp.audio_features(good_id_list[i]))\n",
    "\n",
    "# Flatten JSON list\n",
    "good_features_flat = []\n",
    "for sublist in good_features:\n",
    "    for item in sublist:\n",
    "        good_features_flat.append(item)\n",
    "        \n",
    "# Check 'good' features list\n",
    "good_features_flat[0:5]"
   ]
  },
  {
   "cell_type": "code",
   "execution_count": null,
   "metadata": {},
   "outputs": [],
   "source": [
    "# Compile list of 'bad' track IDs\n",
    "bad_id_list = []\n",
    "for i in range(0, len(bad_flatten)):\n",
    "    bad_id_list.append(bad_flatten[i]['track']['id'])\n",
    "bad_id_list = [x for x in bad_id_list if x]\n",
    "\n",
    "# Retrieve track characteristics\n",
    "bad_features = []\n",
    "for i in range(0, len(bad_id_list)):\n",
    "    if not bad_id_list[i]:\n",
    "        continue\n",
    "    else:\n",
    "        bad_features.append(sp.audio_features(bad_id_list[i]))\n",
    "\n",
    "# Flatten JSON list\n",
    "bad_features_flat = []\n",
    "for sublist in bad_features:\n",
    "    for item in sublist:\n",
    "        bad_features_flat.append(item)\n",
    "        \n",
    "# Check 'bad' features list\n",
    "bad_features_flat[0:5]"
   ]
  }
 ],
 "metadata": {
  "kernelspec": {
   "display_name": "Python 3",
   "language": "python",
   "name": "python3"
  },
  "language_info": {
   "codemirror_mode": {
    "name": "ipython",
    "version": 3
   },
   "file_extension": ".py",
   "mimetype": "text/x-python",
   "name": "python",
   "nbconvert_exporter": "python",
   "pygments_lexer": "ipython3",
   "version": "3.7.3"
  }
 },
 "nbformat": 4,
 "nbformat_minor": 2
}
