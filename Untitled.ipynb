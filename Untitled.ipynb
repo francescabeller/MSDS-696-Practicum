{
 "cells": [
  {
   "cell_type": "markdown",
   "metadata": {},
   "source": [
    "# Spotify Recommendation Algorithm"
   ]
  },
  {
   "cell_type": "markdown",
   "metadata": {},
   "source": [
    "### Spotify Authentication"
   ]
  },
  {
   "cell_type": "code",
   "execution_count": 1,
   "metadata": {},
   "outputs": [],
   "source": [
    "# Import libraries\n",
    "import spotipy\n",
    "from spotipy.oauth2 import SpotifyClientCredentials\n",
    "from spotipy.exceptions import SpotifyException\n",
    "import pandas as pd\n",
    "import seaborn as sns\n",
    "import matplotlib.pyplot as plt\n",
    "%matplotlib qt\n",
    "\n",
    "# Set account info\n",
    "cid = '81fee852cceb4259910e7d2ff78493c3'\n",
    "secret = 'ad4360215d7641ee809275cc5cdd4a6c'\n",
    "username = 'francescab13'\n",
    "\n",
    "# Connect and create Spotify instance\n",
    "client_credentials_manager = SpotifyClientCredentials(client_id=cid, client_secret=secret)\n",
    "sp = spotipy.Spotify(client_credentials_manager=client_credentials_manager)"
   ]
  },
  {
   "cell_type": "markdown",
   "metadata": {},
   "source": [
    "## Data Gathering"
   ]
  },
  {
   "cell_type": "markdown",
   "metadata": {},
   "source": [
    "#### Retrieve track ID's from 'Like' and 'Dislike' playlists"
   ]
  },
  {
   "cell_type": "code",
   "execution_count": 2,
   "metadata": {},
   "outputs": [
    {
     "data": {
      "text/plain": [
       "[{'track': {'id': '75Q69chmd8CEZbVsA4CDMm'}},\n",
       " {'track': {'id': '38kjIfRtXsUxXyzhsKwX7i'}},\n",
       " {'track': {'id': '1YT8xkroYGNLGR4qhuWLC4'}},\n",
       " {'track': {'id': '76gYk9g0bZj47NyIKzjLF6'}},\n",
       " {'track': {'id': '7tvuLLroI0n6uYBWuFig5d'}}]"
      ]
     },
     "execution_count": 2,
     "metadata": {},
     "output_type": "execute_result"
    }
   ],
   "source": [
    "# Get data from 'Likes' playlist\n",
    "good_ids = []\n",
    "pl_id = 'spotify:playlist:2O6XH1ip37KOllmc1KoYEs'\n",
    "offset = 0\n",
    "\n",
    "while True:\n",
    "    response = sp.playlist_tracks(pl_id,\n",
    "                                  offset=offset,\n",
    "                                  fields='items.track.id,total')\n",
    "    good_ids.append(response['items'])\n",
    "    offset = offset + len(response['items'])\n",
    "\n",
    "    if len(response['items']) == 0:\n",
    "        break\n",
    "\n",
    "# Flatten list of lists of JSON\n",
    "good_flatten = []\n",
    "for sublist in good_ids:\n",
    "    for item in sublist:\n",
    "        good_flatten.append(item)\n",
    "\n",
    "# Check good track ID list\n",
    "good_flatten[0:5]"
   ]
  },
  {
   "cell_type": "code",
   "execution_count": 3,
   "metadata": {},
   "outputs": [
    {
     "data": {
      "text/plain": [
       "[{'track': {'id': '1YwNlWLf8auhazSQUDQLFU'}},\n",
       " {'track': {'id': '1xShPgQbOUa98avWJQFDBY'}},\n",
       " {'track': {'id': '3GREm6zSHwKZsJxl0hqbAQ'}},\n",
       " {'track': {'id': '0C6EIiQu8CS4eYtOCMEiAd'}},\n",
       " {'track': {'id': '0puf9yIluy9W0vpMEUoAnN'}}]"
      ]
     },
     "execution_count": 3,
     "metadata": {},
     "output_type": "execute_result"
    }
   ],
   "source": [
    "# Get data from 'Dislikes' playlist\n",
    "bad_ids = []\n",
    "pl_id = 'spotify:playlist:58KlzYsGNQoujtrQc2CU5d'\n",
    "offset = 0\n",
    "\n",
    "while True:\n",
    "    response = sp.playlist_tracks(pl_id,\n",
    "                                  offset=offset,\n",
    "                                  fields='items.track.id,total')\n",
    "    bad_ids.append(response['items'])\n",
    "    offset = offset + len(response['items'])\n",
    "\n",
    "    if len(response['items']) == 0:\n",
    "        break\n",
    "\n",
    "# Flatten list of lists of JSON\n",
    "bad_flatten = []\n",
    "for sublist in bad_ids:\n",
    "    for item in sublist:\n",
    "        bad_flatten.append(item)\n",
    "        \n",
    "# Check bad track ID list\n",
    "bad_flatten[0:5]"
   ]
  },
  {
   "cell_type": "markdown",
   "metadata": {},
   "source": [
    "#### Get track characteristic data"
   ]
  },
  {
   "cell_type": "code",
   "execution_count": null,
   "metadata": {},
   "outputs": [],
   "source": [
    "# Compile list of 'good' track IDs\n",
    "good_id_list = []\n",
    "for i in range(0, len(good_flatten)):\n",
    "    good_id_list.append(good_flatten[i]['track']['id'])\n",
    "good_id_list = [x for x in good_id_list if x]\n",
    "\n",
    "# Retrieve track characteristics\n",
    "good_features = []\n",
    "for i in range(0, len(good_id_list)):\n",
    "    if not good_id_list[i]:\n",
    "        continue\n",
    "    else:\n",
    "        good_features.append(sp.audio_features(good_id_list[i]))\n",
    "\n",
    "# Flatten JSON list\n",
    "good_features_flat = []\n",
    "for sublist in good_features:\n",
    "    for item in sublist:\n",
    "        good_features_flat.append(item)\n",
    "        \n",
    "# Check 'good' features list\n",
    "good_features_flat[0:5]"
   ]
  },
  {
   "cell_type": "code",
   "execution_count": null,
   "metadata": {},
   "outputs": [],
   "source": [
    "# Compile list of 'bad' track IDs\n",
    "bad_id_list = []\n",
    "for i in range(0, len(bad_flatten)):\n",
    "    bad_id_list.append(bad_flatten[i]['track']['id'])\n",
    "bad_id_list = [x for x in bad_id_list if x]\n",
    "\n",
    "# Retrieve track characteristics\n",
    "bad_features = []\n",
    "for i in range(0, len(bad_id_list)):\n",
    "    if not bad_id_list[i]:\n",
    "        continue\n",
    "    else:\n",
    "        bad_features.append(sp.audio_features(bad_id_list[i]))\n",
    "bad_features_flat = []\n",
    "for sublist in bad_features:\n",
    "    for item in sublist:\n",
    "        bad_features_flat.append(item)"
   ]
  }
 ],
 "metadata": {
  "kernelspec": {
   "display_name": "Python 3",
   "language": "python",
   "name": "python3"
  },
  "language_info": {
   "codemirror_mode": {
    "name": "ipython",
    "version": 3
   },
   "file_extension": ".py",
   "mimetype": "text/x-python",
   "name": "python",
   "nbconvert_exporter": "python",
   "pygments_lexer": "ipython3",
   "version": "3.7.3"
  }
 },
 "nbformat": 4,
 "nbformat_minor": 2
}
